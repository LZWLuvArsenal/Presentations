{
 "cells": [
  {
   "cell_type": "markdown",
   "metadata": {
    "colab_type": "text",
    "id": "lWA4PJ2QbNp3"
   },
   "source": [
    "# Objective: For each ID in the test set, you must predict 1 if the tweet is describing a real disaster, and 0 otherwise."
   ]
  },
  {
   "cell_type": "markdown",
   "metadata": {
    "colab_type": "text",
    "id": "C2yZoT22bNp6"
   },
   "source": [
    "# 1. Basic Feature Extraction\n",
    "\n"
   ]
  },
  {
   "cell_type": "markdown",
   "metadata": {
    "colab_type": "text",
    "id": "WBDZn2RSbNp7"
   },
   "source": [
    "Guide: https://www.analyticsvidhya.com/blog/2020/04/beginners-guide-exploratory-data-analysis-text-data/\n",
    "\n",
    "https://www.analyticsvidhya.com/blog/2018/02/the-different-methods-deal-text-data-predictive-python/"
   ]
  },
  {
   "cell_type": "markdown",
   "metadata": {
    "colab_type": "text",
    "id": "CaHAgn0GbNp8"
   },
   "source": [
    "## Prelude"
   ]
  },
  {
   "cell_type": "code",
   "execution_count": 1,
   "metadata": {
    "colab": {
     "base_uri": "https://localhost:8080/",
     "height": 34
    },
    "colab_type": "code",
    "id": "EXv3xEc8bNp9",
    "outputId": "0f212b57-8d30-491f-8f4a-24cc9f8d977f"
   },
   "outputs": [],
   "source": [
    "import pandas as pd\n",
    "import numpy as np\n",
    "import matplotlib.pyplot as plt                                                 # for visualisation\n",
    "import seaborn as sns\n",
    "import re                                                                       # for regular expression\n",
    "import string                                                                   # for handling string\n",
    "import math                                                                     # for math\n",
    "from pandas_profiling import ProfileReport\n",
    "\n",
    "import nltk\n",
    "from nltk import word_tokenize, sent_tokenize\n",
    "from nltk.corpus import stopwords\n",
    "from nltk.stem import WordNetLemmatizer\n",
    "\n",
    "from textblob import TextBlob\n",
    "\n",
    "from collections import defaultdict                                             # for EDA\n",
    "\n",
    "# Packages for data preparation\n",
    "from sklearn.model_selection import train_test_split\n",
    "from keras.preprocessing.text import Tokenizer\n",
    "from keras.utils.np_utils import to_categorical\n",
    "from sklearn.preprocessing import LabelEncoder\n",
    "\n",
    "import keras\n",
    "from keras import models\n",
    "from keras import layers\n",
    "from keras import regularizers\n",
    "import tensorflow as tf\n",
    "\n",
    "from sklearn.metrics import confusion_matrix                                    # for the modelling and plotting of curves\n",
    "from sklearn.metrics import accuracy_score\n",
    "from sklearn.metrics import precision_score\n",
    "from sklearn.metrics import recall_score\n",
    "from sklearn.metrics import average_precision_score\n",
    "from sklearn.metrics import roc_auc_score\n",
    "from sklearn.metrics import precision_recall_curve\n",
    "from sklearn.metrics import roc_curve\n",
    "from sklearn.metrics import auc"
   ]
  },
  {
   "cell_type": "code",
   "execution_count": 2,
   "metadata": {},
   "outputs": [
    {
     "name": "stdout",
     "output_type": "stream",
     "text": [
      "2.4.3\n"
     ]
    }
   ],
   "source": [
    "# Packages for modeling\n",
    "import keras\n",
    "from keras import models\n",
    "from keras import layers\n",
    "from keras import regularizers\n",
    "import tensorflow as tf\n",
    "print (keras.__version__)"
   ]
  },
  {
   "cell_type": "code",
   "execution_count": 3,
   "metadata": {
    "colab": {},
    "colab_type": "code",
    "id": "SNhbVk3UbNqE"
   },
   "outputs": [],
   "source": [
    "train_csv = 'C:/Users/zheng/Desktop/Data Science/Capstone Project/Data//train.csv'\n",
    "test_csv = 'C:/Users/zheng/Desktop/Data Science/Capstone Project/Data//test.csv'\n",
    "\n",
    "train = pd.read_csv(train_csv)\n",
    "test = pd.read_csv(test_csv)\n",
    "\n",
    "pd.set_option(\"display.max_colwidth\", None)"
   ]
  },
  {
   "cell_type": "code",
   "execution_count": 4,
   "metadata": {
    "colab": {
     "base_uri": "https://localhost:8080/",
     "height": 195
    },
    "colab_type": "code",
    "id": "b481T57vbNqd",
    "outputId": "14b1550c-75c2-4768-806f-c76a87e3007c"
   },
   "outputs": [
    {
     "data": {
      "text/html": [
       "<div>\n",
       "<style scoped>\n",
       "    .dataframe tbody tr th:only-of-type {\n",
       "        vertical-align: middle;\n",
       "    }\n",
       "\n",
       "    .dataframe tbody tr th {\n",
       "        vertical-align: top;\n",
       "    }\n",
       "\n",
       "    .dataframe thead th {\n",
       "        text-align: right;\n",
       "    }\n",
       "</style>\n",
       "<table border=\"1\" class=\"dataframe\">\n",
       "  <thead>\n",
       "    <tr style=\"text-align: right;\">\n",
       "      <th></th>\n",
       "      <th>id</th>\n",
       "      <th>keyword</th>\n",
       "      <th>location</th>\n",
       "      <th>text</th>\n",
       "      <th>target</th>\n",
       "    </tr>\n",
       "  </thead>\n",
       "  <tbody>\n",
       "    <tr>\n",
       "      <th>0</th>\n",
       "      <td>1</td>\n",
       "      <td>NaN</td>\n",
       "      <td>NaN</td>\n",
       "      <td>Our Deeds are the Reason of this #earthquake May ALLAH Forgive us all</td>\n",
       "      <td>1</td>\n",
       "    </tr>\n",
       "    <tr>\n",
       "      <th>1</th>\n",
       "      <td>4</td>\n",
       "      <td>NaN</td>\n",
       "      <td>NaN</td>\n",
       "      <td>Forest fire near La Ronge Sask. Canada</td>\n",
       "      <td>1</td>\n",
       "    </tr>\n",
       "    <tr>\n",
       "      <th>2</th>\n",
       "      <td>5</td>\n",
       "      <td>NaN</td>\n",
       "      <td>NaN</td>\n",
       "      <td>All residents asked to 'shelter in place' are being notified by officers. No other evacuation or shelter in place orders are expected</td>\n",
       "      <td>1</td>\n",
       "    </tr>\n",
       "    <tr>\n",
       "      <th>3</th>\n",
       "      <td>6</td>\n",
       "      <td>NaN</td>\n",
       "      <td>NaN</td>\n",
       "      <td>13,000 people receive #wildfires evacuation orders in California</td>\n",
       "      <td>1</td>\n",
       "    </tr>\n",
       "    <tr>\n",
       "      <th>4</th>\n",
       "      <td>7</td>\n",
       "      <td>NaN</td>\n",
       "      <td>NaN</td>\n",
       "      <td>Just got sent this photo from Ruby #Alaska as smoke from #wildfires pours into a school</td>\n",
       "      <td>1</td>\n",
       "    </tr>\n",
       "  </tbody>\n",
       "</table>\n",
       "</div>"
      ],
      "text/plain": [
       "   id keyword location  \\\n",
       "0   1     NaN      NaN   \n",
       "1   4     NaN      NaN   \n",
       "2   5     NaN      NaN   \n",
       "3   6     NaN      NaN   \n",
       "4   7     NaN      NaN   \n",
       "\n",
       "                                                                                                                                    text  \\\n",
       "0                                                                  Our Deeds are the Reason of this #earthquake May ALLAH Forgive us all   \n",
       "1                                                                                                 Forest fire near La Ronge Sask. Canada   \n",
       "2  All residents asked to 'shelter in place' are being notified by officers. No other evacuation or shelter in place orders are expected   \n",
       "3                                                                      13,000 people receive #wildfires evacuation orders in California    \n",
       "4                                               Just got sent this photo from Ruby #Alaska as smoke from #wildfires pours into a school    \n",
       "\n",
       "   target  \n",
       "0       1  \n",
       "1       1  \n",
       "2       1  \n",
       "3       1  \n",
       "4       1  "
      ]
     },
     "execution_count": 4,
     "metadata": {},
     "output_type": "execute_result"
    }
   ],
   "source": [
    "train.head()"
   ]
  },
  {
   "cell_type": "markdown",
   "metadata": {
    "colab_type": "text",
    "id": "SIQgR8mMbNtT"
   },
   "source": [
    "# 2. Basic Pre-processing\n",
    "\n",
    "So far, we have learned how to extract basic features from text data. Before diving into text and feature extraction, our first step should be cleaning the data in order to obtain better features. We will achieve this by doing some of the basic pre-processing steps on our training data.\n",
    "\n",
    "So, let’s get into it."
   ]
  },
  {
   "cell_type": "markdown",
   "metadata": {
    "colab_type": "text",
    "id": "fD_oRKOKbNtU"
   },
   "source": [
    "### 2.1 Removal of http\n",
    "We do not need the website/links for our text analysis, so we shall remove them."
   ]
  },
  {
   "cell_type": "code",
   "execution_count": 5,
   "metadata": {
    "colab": {},
    "colab_type": "code",
    "id": "lPl-lln6bNtU"
   },
   "outputs": [],
   "source": [
    "def clean_text(text):\n",
    "    text = re.sub(r'https://t.co\\S+\\s*', '', text)  # remove URLs http://t.co/lbwej0pxOd\n",
    "    text = re.sub(r'http://t.co\\S+\\s*', '', text) \n",
    "    return text"
   ]
  },
  {
   "cell_type": "code",
   "execution_count": 6,
   "metadata": {
    "colab": {
     "base_uri": "https://localhost:8080/",
     "height": 0
    },
    "colab_type": "code",
    "id": "P38ox96XbNtY",
    "outputId": "ad8ec107-e440-4052-c38c-1fefbea82613"
   },
   "outputs": [
    {
     "data": {
      "text/plain": [
       "1278                                                                                                             Don't get burned twice by the same flame.\n",
       "2264                  Businesses are|deluged with invoices. Make y urs stand out with colour or shape and it's likely to rise to the top of the pay' pile.\n",
       "2883                                                                                                    'California's Burning:' Gov. on Drought Wildfires \n",
       "1138                                                                         The cryptic words that guided pilots on the Hiroshima bombing mission #canada\n",
       "5957                                                                                             @noahshack he's hot &amp; he can sing I'm screaming??????\n",
       "6255    LRT refer to the lyrics to hear Big Boi explain why heÛªs as cool as ÛÏsippinÛª a milkshake in a snowstorm' lame bars but effective at the time\n",
       "1454                                                                        @reriellechan HE WAS THE LICH KING'S FIRST CASUALTY BLOCK ME BACK I HATE YOU! \n",
       "7210                                                                                                                                   Weapon's catalogue~\n",
       "7348                                                             The Latest: More homes razed by Northern California wildfire - LancasterOnline #Lancaster\n",
       "4457              Russia stood down cold war nuke ban or face ocean superiority \\nUnconditional surrender next putin\\nGame set match\\nRelease the hostages\n",
       "6060                                                                                  Sinkhole Selfies: You Wont Believe What's In The Brooklyn Sinkhole! \n",
       "3686                                                                                                                             @Chrisman528 fatality ...\n",
       "3061                                                                                        #earthquake (EMSC): MD 2.9 OFF COAST OF NORTHERN CALIFORNIA G \n",
       "2834                                                                                                 ? The Circular Ruins - Displaced part 4 ? #nowplaying\n",
       "7539                                    Wreckage 'Conclusively Confirmed' as From MH370: Malaysia PM: Investigators and the families of those who were... \n",
       "6877                                                                             WHY THE DEEP ROADS THO HAHAHAHA IM SO TRAUMATISED BY THE DEEP ROADS LOLOL\n",
       "3527                                    Aug. 06 2015 Radio Show articles ÛÒ  \\n1] Eyewitness Account of Abortion Organ Harvesting by Planned Parenthood: \n",
       "1408                         I'M LAUGHING IN THE FACE OF CASUALTIES AND SORROW THE FIRST TIME I'M THINKING PAST TOMORROW BUT I AM NOT THROWIN AWAY MY SHOT\n",
       "2219                                                                           Strange to encaustic cerography portion him till give voice deluge: bYITyf \n",
       "3869                                                         I have a rising follower graph! 2 more followers in the past week. Get your stats right here \n",
       "Name: clean, dtype: object"
      ]
     },
     "execution_count": 6,
     "metadata": {},
     "output_type": "execute_result"
    }
   ],
   "source": [
    "train['clean'] = train['text'].apply(clean_text)\n",
    "train['clean'].sample(20)"
   ]
  },
  {
   "cell_type": "markdown",
   "metadata": {
    "colab_type": "text",
    "id": "RF282vZDbNtd"
   },
   "source": [
    "### 2.2 Remove Mentions\n",
    "\n",
    "The account name is irrevelant to what we want to analyse so we shall remove them."
   ]
  },
  {
   "cell_type": "code",
   "execution_count": 7,
   "metadata": {
    "colab": {},
    "colab_type": "code",
    "id": "yxAbFOl_bNtd"
   },
   "outputs": [],
   "source": [
    "def clean_text1(text):\n",
    "    text = re.sub(r'@\\S+', '', text)  # remove mentions\n",
    "    return text"
   ]
  },
  {
   "cell_type": "code",
   "execution_count": 8,
   "metadata": {
    "colab": {
     "base_uri": "https://localhost:8080/",
     "height": 0
    },
    "colab_type": "code",
    "id": "yLXNa7FqbNth",
    "outputId": "90fdf299-2667-4b5f-a772-7c7638ea449d"
   },
   "outputs": [
    {
     "data": {
      "text/plain": [
       "7269                                                                                                             sounds like a whirlwind life!\n",
       "5945    i dont even remember slsp happening i just remember being like wtf and then the lights turned off and everyone screamed for the encore\n",
       "3925                                                                                     cue the flood of people 'ironically' calling you that\n",
       "5611                                                                  The Latest: More Homes Razed by Northern California Wildfire - ABC News \n",
       "842                                                                                                   I call it a little bit of your blizzard?\n",
       "958                                                   Louis Vuitton Monogram Sophie Limited Edition Clutch Cross body Bag - Full read by eBay \n",
       "4037                                                                                          USFS an acronym for United States Fire Service. \n",
       "5546                                                                                                        &lt;gasp!&gt; I forgot Sunday! OMG\n",
       "2030                                                                                      What is this? Like I could be in danger or something\n",
       "6450                                Erdogan's Bloody Gambit: on July 20 a suicide bombing in Turkey took the lives of 31 socialists in SuruÌ¤ \n",
       "4618                                                  CLEARED:incident with injury:I-495  inner loop Exit 31 - MD 97/Georgia Ave Silver Spring\n",
       "3800                                                                                                             Truck fire clogs canyon road \n",
       "2555                                                                               Watch These Super Strong Magnets Destroy Everyday Objects: \n",
       "4632                                                                                      Ngata on injury list at start of practice for Lions \n",
       "1754                                                                               Anti Collision Rear- #technology #cool Via Techesback #Tech\n",
       "6626                                                      Truth...\\n#News\\n#BBC\\n#CNN\\n#Islam\\n#Truth\\n#god\\n#ISIS\\n#terrorism\\n#Quran\\n#Lies \n",
       "4556                         Udhampur terror attack: Militants attack police post 2 SPOs injured: Suspected militants tonight attacked a p... \n",
       "4092                                                                                                                          Hail! [pic] ÛÓ \n",
       "3587                                                                      Winnipeg police seek witnesses in Arlington and William fatal crash \n",
       "1422                                                       #Civilian casualties in Afghanistan hit highest number since 2009 U.N. says via  - \n",
       "Name: clean, dtype: object"
      ]
     },
     "execution_count": 8,
     "metadata": {},
     "output_type": "execute_result"
    }
   ],
   "source": [
    "train['clean'] = train['clean'].apply(clean_text1)\n",
    "train['clean'].sample(20)"
   ]
  },
  {
   "cell_type": "markdown",
   "metadata": {
    "colab_type": "text",
    "id": "a9qGeW7xbNtp"
   },
   "source": [
    "### 2.3 Remove RT\n",
    "We do not have to know who is tagged or being tagged so we shall remove them. We can't remove \"cc\" because of \"accident\""
   ]
  },
  {
   "cell_type": "code",
   "execution_count": 9,
   "metadata": {
    "colab": {},
    "colab_type": "code",
    "id": "H1TdAnlCbNtq"
   },
   "outputs": [],
   "source": [
    "def clean_text2(text):\n",
    "    text = re.sub(r'RT|^cc', '', text) # remove RT\n",
    "    return text"
   ]
  },
  {
   "cell_type": "code",
   "execution_count": 10,
   "metadata": {
    "colab": {
     "base_uri": "https://localhost:8080/",
     "height": 0
    },
    "colab_type": "code",
    "id": "d67L8f5SbNtv",
    "outputId": "f072c6f8-89c1-48bb-e807-1356239dbf13"
   },
   "outputs": [
    {
     "data": {
      "text/plain": [
       "849                                                                                                                                 Rip ?? Blood !\n",
       "730                                                                                                                  head up like yo nose bleeding\n",
       "1530            At FEMA's Center for Disaster Preparedness for a weeklong training on Chemical Biological Radioactive Nuclear   Emergency Response\n",
       "7382      If you find your patio table umbrella and chairs flipped over and suspect foul play (instead of windstorm) you may be a suspense writer.\n",
       "714                                                                                 you could slit my throat and I'd apologize for bleeding on you\n",
       "2125        #vaxshill 2 deaths from measles complications in 10 yrs everyone looses their shit. 8 dead from Legionnaires in a month &amp; crickets\n",
       "2456      Madhya Pradesh Train Derailment: Village Youth Saved Many Lives: A group of villagers saved over 70 passengers' lives after two train...\n",
       "5098                           #refugees of #nuclear disaster in western #Japan will be beyond 500 thousand at least. #AFP #guardian #WPS #NYTimes\n",
       "1906                                                                                                                   Holy moly that was crushed.\n",
       "3340                           #WorldNews Fallen powerlines on G:link tram: UPDATE: FIRE crews have evacuated up to 30 passengers who were tr...  \n",
       "5296                             Families to sue over Legionnaires: More than 40 families affected by the fatal outbreak of Legio... #MuhamadJabal\n",
       "3566                                                                           when things become terrible more than the great Ethiopian famine...\n",
       "6289                                                                       #NASA announced that a massive #solar storm is headed straight for us: \n",
       "6950                                                                           Crptotech tsunami and banks.\\n #Banking #tech #bitcoing #blockchain\n",
       "237                         exactly. That's why the lesnar/cena match from summerslam last year was so great because Brock annihilated a guy who's\n",
       "7162                                  Sundays during football seasonfrom about 9 am - 11 pm women shouldn't even log onshit be a complete war zone\n",
       "5489                            Reddit Will Now Quarantine Offensive Content: Reddit co-founder and CEO Steve Huffman has unveiled more specif... \n",
       "5522    okay the cat has been quarantined in my bathroom...its meowing really loud but I turned up the TV louder...things just might work out okay\n",
       "3162                        Came across this fire video not mine..enjoy..#fire #firemen #firetruck #emergency #rescue #911 #summertime #sirensÛ_ \n",
       "7531                                                                        Check out 'Malaysia Confirms Plane Wreckage Is From Flight MH370' at  \n",
       "Name: clean, dtype: object"
      ]
     },
     "execution_count": 10,
     "metadata": {},
     "output_type": "execute_result"
    }
   ],
   "source": [
    "train['clean'] = train['clean'].apply(clean_text2)\n",
    "train['clean'].sample(20)"
   ]
  },
  {
   "cell_type": "markdown",
   "metadata": {
    "colab_type": "text",
    "id": "41N6uq9QbNt3"
   },
   "source": [
    "### 2.4 Remove extra whitespace and special symbols"
   ]
  },
  {
   "cell_type": "code",
   "execution_count": 11,
   "metadata": {
    "colab": {},
    "colab_type": "code",
    "id": "aMHv7TDvbNt4"
   },
   "outputs": [],
   "source": [
    "def clean_text3(text):\n",
    "    text = re.sub(r'\\s+$', '', text)\n",
    "    text = re.sub(r'\\^s+', '', text)\n",
    "    text = re.sub(r'[^a-zA-Z\\s]+', '', text) #remove special symbols\n",
    "    return text"
   ]
  },
  {
   "cell_type": "code",
   "execution_count": 12,
   "metadata": {
    "colab": {
     "base_uri": "https://localhost:8080/",
     "height": 0
    },
    "colab_type": "code",
    "id": "eSSMu7UPbNt9",
    "outputId": "884e9779-16ab-4c24-fb18-fa73cdb9f279"
   },
   "outputs": [
    {
     "data": {
      "text/plain": [
       "4579                                                            A new type of ADHD Head injuries in children linked to longterm attention problems\n",
       "4299          Allah describes piling up wealth thinking it would last forever as the description of the people of Hellfire in Surah Humaza Reflect\n",
       "3838                                                            New Giant Flames GIANT FULL BLACK PANTOFEL infoorder sms pin pictwittercompNPiZoDY\n",
       "4756                                                                                                Dont blink  wont see the Lightning take the W \n",
       "5218    I need an arcade shooter fix but CTE is empty amp only running obliteration Id even buy a CoD title if they werent all overpriced on steam\n",
       "15                                                                                                                                    Whats up man\n",
       "6663                                                                 The few I warned about  Were just as I expected They are a threat to his soul\n",
       "2323                                       It was finally demolished in the spring of  and the property has sat vacant since The just saddlebrooke\n",
       "4620                                                                                            McFadden Reportedly to Test Hamstring Thursday via\n",
       "7448                                                                                                                               puncture wounds\n",
       "3960                                                                                     Cuban leader extends sympathy to Vietnam over flooding at\n",
       "4547                                    Udhampur terror attack Militants attack police post  SPOs injured Suspected militants tonight attacked a p\n",
       "3951                                           a Radar Update Widespread ShowersStorms but moving over the same areasminor flooding possible HUNwx\n",
       "6770                                                                              Illinois Tornado Slipped Under The Radar Emergency Officials Say\n",
       "3821                                                                               Juneau Empire  First responders turn out for National Night Out\n",
       "2685                                                                                             Ignition Knock Detonation SensorSenso Standard KS\n",
       "3587                                                                           Winnipeg police seek witnesses in Arlington and William fatal crash\n",
       "3034                                                                                                                  Posted a new song Earthquake\n",
       "920                                    and I sg if my mentions get blown up over MY choice I will deactivate and leave for good RESPECT MY CHOICES\n",
       "5669                                                                             Officials rescue  migrants off Libya  bodies found  Fox News News\n",
       "Name: clean, dtype: object"
      ]
     },
     "execution_count": 12,
     "metadata": {},
     "output_type": "execute_result"
    }
   ],
   "source": [
    "train['clean'] = train['clean'].apply(clean_text3)\n",
    "train['clean'].sample(20)"
   ]
  },
  {
   "cell_type": "markdown",
   "metadata": {
    "colab_type": "text",
    "id": "0UARmdXIbNuF"
   },
   "source": [
    "### 2.5 Removing digits and words containing digits\n",
    "\n",
    "Next, we need to remove numbers and words containing digits from the texts. I am doing this because digits and words containing digits do not give much importance to the main words. "
   ]
  },
  {
   "cell_type": "code",
   "execution_count": 13,
   "metadata": {
    "colab": {},
    "colab_type": "code",
    "id": "7G5tjuVVbNuG"
   },
   "outputs": [],
   "source": [
    "def clean_text4(text):\n",
    "    text = re.sub(r'\\w*\\d\\w*','', text)\n",
    "    return text"
   ]
  },
  {
   "cell_type": "code",
   "execution_count": 14,
   "metadata": {
    "colab": {
     "base_uri": "https://localhost:8080/",
     "height": 0
    },
    "colab_type": "code",
    "id": "F5HVYX3dbNuK",
    "outputId": "4c56eedf-9854-4a1a-8e61-5507219210d7"
   },
   "outputs": [
    {
     "data": {
      "text/plain": [
       "1733                                 dead in Russia bus accident At least  people were killed and  others injured when two buses collided i\n",
       "2160                                             As of  there were  Beluga deaths reported at SeaWorld their average age   years OpSeaWorld\n",
       "2193         ABC OnlineMH Aircraft debris found on La Reunion is from missing Malaysia Airlines ABC OnlineA piece of aircraft debris which \n",
       "1114                 true I faced everything from Is Bin Laden your uncle to Hopefully Afghanistan will be bombed Children can be very ugly\n",
       "732                                                             I fell off someones back and hit my head on concrete  I was bleeding n shit\n",
       "2402                                 Happy no one was hurt when wmata train derailed Also the express bus is so much better than metro rail\n",
       "6840                              Hollywood Movie About Trapped Miners Released in Chile The  Hollywood movie about trapped miners starring\n",
       "642                                                                     Do you know anyone looking to move to Hammond OR Share this listing\n",
       "6977                                                                                      Its alil twister at Tha end to I was like oh nah \n",
       "1196                                                         im a Gemini children screaming buildings burning police sirens in the distance\n",
       "5491                                                                                           Reddit Will Now Quarantine Offensive Content\n",
       "6393                                            th Day Since Jul  Nigeria Suicide Bomb Attacks Killed  People Blamed Boko Haram LA TimesAP \n",
       "6085                                                                        Do you feel like you are sinking in low selfimage Take the quiz\n",
       "3334                                                Trafford Centre film fans angry after Odeon cinema evacuated following false fire alarm\n",
       "1602                        The barbaric Saudies as you said they relive Austrian economy If we stop coming here many project will collapse\n",
       "210                            THEY SHALL BE ANNIHILATED AND ALL OF THEIR PETEBESTS DESSICATED AND LAID BARE THEN YOU SHALL KNEEL BEFORE ME\n",
       "5851                                                   well done me everyone applaud me and how terrific i am and how i never ruin anything\n",
       "628                         Any Support Sys   AUTH taken Hostage by BLK US clergyforced  exist youngerampgrossly disfigured by BIOTERRORISM\n",
       "3995    Have you ever remembered an old song something you havent heared for years  words that carry floods of memories all along priceless\n",
       "3410                                                                                              i swea it feels like im about to explode \n",
       "Name: clean, dtype: object"
      ]
     },
     "execution_count": 14,
     "metadata": {},
     "output_type": "execute_result"
    }
   ],
   "source": [
    "train['clean'] = train['clean'].apply(clean_text4)\n",
    "train['clean'].sample(20)"
   ]
  },
  {
   "cell_type": "markdown",
   "metadata": {
    "colab_type": "text",
    "id": "qBT0RLw3bNuP"
   },
   "source": [
    "### 2.6 Expand contractions"
   ]
  },
  {
   "cell_type": "markdown",
   "metadata": {
    "colab_type": "text",
    "id": "MLVry5oKbNuP"
   },
   "source": [
    "Contractions are the shortened versions of words like don’t for do not and how’ll for how will. These are used to reduce the speaking and writing time of words. We need to expand these contractions for a better analysis of the texts."
   ]
  },
  {
   "cell_type": "code",
   "execution_count": 15,
   "metadata": {
    "colab": {},
    "colab_type": "code",
    "id": "dFQYiL_0bNuQ"
   },
   "outputs": [],
   "source": [
    "# Dictionary of English Contractions\n",
    "contractions_dict = { \"ain't\": \"are not\",\"'s\":\" is\",\"aren't\": \"are not\",\n",
    "                     \"can't\": \"cannot\",\"can't've\": \"cannot have\",\n",
    "                     \"'cause\": \"because\",\"could've\": \"could have\",\"couldn't\": \"could not\",\n",
    "                     \"couldn't've\": \"could not have\", \"didn't\": \"did not\",\"doesn't\": \"does not\",\n",
    "                     \"don't\": \"do not\",\"hadn't\": \"had not\",\"hadn't've\": \"had not have\",\n",
    "                     \"hasn't\": \"has not\",\"haven't\": \"have not\",\"he'd\": \"he would\",\n",
    "                     \"he'd've\": \"he would have\",\"he'll\": \"he will\", \"he'll've\": \"he will have\",\n",
    "                     \"how'd\": \"how did\",\"how'd'y\": \"how do you\",\"how'll\": \"how will\",\n",
    "                     \"I'd\": \"I would\", \"I'd've\": \"I would have\",\"I'll\": \"I will\",\n",
    "                     \"I'll've\": \"I will have\",\"I'm\": \"I am\",\"I've\": \"I have\", \"isn't\": \"is not\",\n",
    "                     \"it'd\": \"it would\",\"it'd've\": \"it would have\",\"it'll\": \"it will\",\n",
    "                     \"it'll've\": \"it will have\", \"let's\": \"let us\",\"ma'am\": \"madam\",\n",
    "                     \"mayn't\": \"may not\",\"might've\": \"might have\",\"mightn't\": \"might not\", \n",
    "                     \"mightn't've\": \"might not have\",\"must've\": \"must have\",\"mustn't\": \"must not\",\n",
    "                     \"mustn't've\": \"must not have\", \"needn't\": \"need not\",\n",
    "                     \"needn't've\": \"need not have\",\"o'clock\": \"of the clock\",\"oughtn't\": \"ought not\",\n",
    "                     \"oughtn't've\": \"ought not have\",\"shan't\": \"shall not\",\"sha'n't\": \"shall not\",\n",
    "                     \"shan't've\": \"shall not have\",\"she'd\": \"she would\",\"she'd've\": \"she would have\",\n",
    "                     \"she'll\": \"she will\", \"she'll've\": \"she will have\",\"should've\": \"should have\",\n",
    "                     \"shouldn't\": \"should not\", \"shouldn't've\": \"should not have\",\"so've\": \"so have\",\n",
    "                     \"that'd\": \"that would\",\"that'd've\": \"that would have\", \"there'd\": \"there would\",\n",
    "                     \"there'd've\": \"there would have\", \"they'd\": \"they would\",\n",
    "                     \"they'd've\": \"they would have\",\"they'll\": \"they will\",\n",
    "                     \"they'll've\": \"they will have\", \"they're\": \"they are\",\"they've\": \"they have\",\n",
    "                     \"to've\": \"to have\",\"wasn't\": \"was not\",\"we'd\": \"we would\",\n",
    "                     \"we'd've\": \"we would have\",\"we'll\": \"we will\",\"we'll've\": \"we will have\",\n",
    "                     \"we're\": \"we are\",\"we've\": \"we have\", \"weren't\": \"were not\",\"what'll\": \"what will\",\n",
    "                     \"what'll've\": \"what will have\",\"what're\": \"what are\", \"what've\": \"what have\",\n",
    "                     \"when've\": \"when have\",\"where'd\": \"where did\", \"where've\": \"where have\",\n",
    "                     \"who'll\": \"who will\",\"who'll've\": \"who will have\",\"who've\": \"who have\",\n",
    "                     \"why've\": \"why have\",\"will've\": \"will have\",\"won't\": \"will not\",\n",
    "                     \"won't've\": \"will not have\", \"would've\": \"would have\",\"wouldn't\": \"would not\",\n",
    "                     \"wouldn't've\": \"would not have\",\"y'all\": \"you all\", \"y'all'd\": \"you all would\",\n",
    "                     \"y'all'd've\": \"you all would have\",\"y'all're\": \"you all are\",\n",
    "                     \"y'all've\": \"you all have\", \"you'd\": \"you would\",\"you'd've\": \"you would have\",\n",
    "                     \"you'll\": \"you will\",\"you'll've\": \"you will have\", \"you're\": \"you are\",\n",
    "                     \"you've\": \"you have\"}\n",
    "\n"
   ]
  },
  {
   "cell_type": "code",
   "execution_count": 16,
   "metadata": {
    "colab": {
     "base_uri": "https://localhost:8080/",
     "height": 0
    },
    "colab_type": "code",
    "id": "i-7iol1ibNuT",
    "outputId": "2af67a01-0990-4bdb-d11a-05806d619a0a"
   },
   "outputs": [
    {
     "data": {
      "text/plain": [
       "1043                                                                                            Lab today ready for these body bags \n",
       "120                   WisdomWed BONUS   Minute Daily Habits that could really improve your life How many do you already do lifehacks\n",
       "6019                                                              SEISMIC RISK a COMPARISON between  case studies CALABRIA AND MALTA\n",
       "7076                                                                       Ancient Mayan Tablet with Hieroglyphics Honors Lowly King\n",
       "3849                                                                                   that new lil b x chance is nothing but flames\n",
       "3765                            dont overwork yourself Your album is gonna be fire just dont overwork or stress I love you take care\n",
       "7313                                                                                             These wild fires out west are crazy\n",
       "6407                      killed in SArabia mosque suicide bombing\\n\\nA suicide bomber attacked a mosque in Aseer southwestern Saudi\n",
       "965      Bruh you wanna fight Im down meet me in the cage bro better find out who youre dealing with before you end up in a body bag\n",
       "6579                                                 Molecularly targeted cancer therapy for his LungCancer gave Rocky his life back\n",
       "1779                                                                             I feel that crash and burn by Thomas Rhett for sure\n",
       "807                there is a theory that makes way too much sense that says that the dwarves may be the actual origin of the blight\n",
       "731                                                               Ive been bleeding in your silence \\nI feel safer in your violence \n",
       "6917                                                                                                                    Noel back up\n",
       "5906                                              Come out to Sandstorm tryouts Aug th at Lower Woodland\\nMS Tryout pm\\nHS Tryout pm\n",
       "3882                                                                                   Zouma has just absolutely flattened that guy \n",
       "776                                                                           Ye did the same thing to Big Sean and he still blew up\n",
       "2624                                       Putin decree results in destruction of  tons of imported cheese near RussiaUkraine border\n",
       "1789                                                  The Next Financial Crash The Writing is on the Wall Dont Say You Werent Warned\n",
       "6753                                                                        I liked a  video Lexi Belle for Oklahoma tornado victims\n",
       "Name: clean, dtype: object"
      ]
     },
     "execution_count": 16,
     "metadata": {},
     "output_type": "execute_result"
    }
   ],
   "source": [
    "# Regular expression for finding contractions\n",
    "contractions_re=re.compile('(%s)' % '|'.join(contractions_dict.keys()))\n",
    "\n",
    "# Function for expanding contractions\n",
    "def expand_contractions(text,contractions_dict=contractions_dict):\n",
    "  def replace(match):\n",
    "    return contractions_dict[match.group(0)]\n",
    "  return contractions_re.sub(replace, text)\n",
    "\n",
    "# Expanding Contractions in the reviews\n",
    "train['clean'] = train['clean'].apply(lambda x:expand_contractions(x))\n",
    "train['clean'].sample(20)"
   ]
  },
  {
   "cell_type": "markdown",
   "metadata": {
    "colab_type": "text",
    "id": "90s_vjj4bNuf"
   },
   "source": [
    "Now that we have expanded the contractions, it’s time to lowercase the words."
   ]
  },
  {
   "cell_type": "markdown",
   "metadata": {
    "colab_type": "text",
    "id": "8nzdcI5AbNug"
   },
   "source": [
    "### 2.7 Lower case\n",
    "What we will do is transform our tweets into lower case. This avoids having multiple copies of the same words. For example, while calculating the word count, ‘Analytics’ and ‘analytics’ will be taken as different words."
   ]
  },
  {
   "cell_type": "markdown",
   "metadata": {
    "colab_type": "text",
    "id": "JHp46CyUbNug"
   },
   "source": [
    "In NLP, models treat words like Goat and goat differently, even if they are the same. Therefore, to overcome this problem, we lowercase the words. Here, I am using the lower() function available in Python for converting text to lowercase:"
   ]
  },
  {
   "cell_type": "code",
   "execution_count": 17,
   "metadata": {
    "colab": {
     "base_uri": "https://localhost:8080/",
     "height": 0
    },
    "colab_type": "code",
    "id": "cO8481N8bNuh",
    "outputId": "ed4198a8-540c-448c-f912-583b05734e08"
   },
   "outputs": [
    {
     "data": {
      "text/plain": [
       "1138                                                     the cryptic words that guided pilots on the hiroshima bombing mission canada\n",
       "5473                       bangalore reddit updates content policy promises to quarantine extremely offensive communities startups in\n",
       "4580                                                                       right yep youre a witness to his injuries haha its a gauze\n",
       "506                                     christian attacked by muslims at the temple mount after waving israeli flag via pamela geller\n",
       "100                                           bahrain police had previously died in a road accident they were not killed by explosion\n",
       "7215                                                                             iranian warship points weapon at american helicopter\n",
       "2719    losdelsonido obama declares disaster for typhoondevastated saipan obama signs disaster declaration for northern ma ivanberroa\n",
       "4225                                              dam gms olap world pres how to recognize a hazardous waste and the multidimensional\n",
       "1760              well saturn doesnt exist anymore so the collision place has a starting estimate of thats times what my car is worth\n",
       "6813                                                                                                           you feel trapped innit\n",
       "4975                                                     lol warthen in the midst of bullpen meltdown reaching for double bubble mets\n",
       "2144                                                              no two cases dont constitute an epidemic plague health publichealth\n",
       "3230                       providence health amp services emergency services supervisor emergency department kodiak ak healthcare job\n",
       "172                                                                  twelve feared killed in pakistani air ambulance helicopter crash\n",
       "3744                                                                                                     auction shoes retro fire red\n",
       "1207                               messi has tattoos so he cant donate blood ronaldo runs into burning buildings to save dogs respect\n",
       "2355                                                                             doing giveaway music kit dren deaths head demolition\n",
       "5568                      lizzie i drove thru deep water in a flash floodrainstorm repair cost yrs later people still thnk cars float\n",
       "2299             if you think going to demolish drakes house over some ghostwriting shit you should know that rihanna lives next door\n",
       "5298        lets try to do our best to prevent another outbreak of violence by talking to each other both the people and the politics\n",
       "Name: clean, dtype: object"
      ]
     },
     "execution_count": 17,
     "metadata": {},
     "output_type": "execute_result"
    }
   ],
   "source": [
    "train['clean'] = train['clean'].apply(lambda x: \" \".join(x.lower() for x in x.split()))\n",
    "train['clean'].sample(20)"
   ]
  },
  {
   "cell_type": "markdown",
   "metadata": {
    "colab_type": "text",
    "id": "mVJLDsWubNul"
   },
   "source": [
    "### 2.8 Removal of Stop Words\n",
    "As we discussed earlier, stop words (or commonly occurring words) should be removed from the text data. For this purpose, we can either create a list of stopwords ourselves or we can use predefined libraries."
   ]
  },
  {
   "cell_type": "code",
   "execution_count": 18,
   "metadata": {
    "colab": {
     "base_uri": "https://localhost:8080/",
     "height": 0
    },
    "colab_type": "code",
    "id": "t3LaTgHAbNul",
    "outputId": "22ffcbfd-001c-4ccf-8504-69e77a63a4dd",
    "scrolled": true
   },
   "outputs": [
    {
     "name": "stdout",
     "output_type": "stream",
     "text": [
      "['i', 'me', 'my', 'myself', 'we', 'our', 'ours', 'ourselves', 'you', \"you're\", \"you've\", \"you'll\", \"you'd\", 'your', 'yours', 'yourself', 'yourselves', 'he', 'him', 'his', 'himself', 'she', \"she's\", 'her', 'hers', 'herself', 'it', \"it's\", 'its', 'itself', 'they', 'them', 'their', 'theirs', 'themselves', 'what', 'which', 'who', 'whom', 'this', 'that', \"that'll\", 'these', 'those', 'am', 'is', 'are', 'was', 'were', 'be', 'been', 'being', 'have', 'has', 'had', 'having', 'do', 'does', 'did', 'doing', 'a', 'an', 'the', 'and', 'but', 'if', 'or', 'because', 'as', 'until', 'while', 'of', 'at', 'by', 'for', 'with', 'about', 'against', 'between', 'into', 'through', 'during', 'before', 'after', 'above', 'below', 'to', 'from', 'up', 'down', 'in', 'out', 'on', 'off', 'over', 'under', 'again', 'further', 'then', 'once', 'here', 'there', 'when', 'where', 'why', 'how', 'all', 'any', 'both', 'each', 'few', 'more', 'most', 'other', 'some', 'such', 'no', 'nor', 'not', 'only', 'own', 'same', 'so', 'than', 'too', 'very', 's', 't', 'can', 'will', 'just', 'don', \"don't\", 'should', \"should've\", 'now', 'd', 'll', 'm', 'o', 're', 've', 'y', 'ain', 'aren', \"aren't\", 'couldn', \"couldn't\", 'didn', \"didn't\", 'doesn', \"doesn't\", 'hadn', \"hadn't\", 'hasn', \"hasn't\", 'haven', \"haven't\", 'isn', \"isn't\", 'ma', 'mightn', \"mightn't\", 'mustn', \"mustn't\", 'needn', \"needn't\", 'shan', \"shan't\", 'shouldn', \"shouldn't\", 'wasn', \"wasn't\", 'weren', \"weren't\", 'won', \"won't\", 'wouldn', \"wouldn't\", 'ur']\n"
     ]
    }
   ],
   "source": [
    "from nltk.corpus import stopwords\n",
    "stop = stopwords.words('english')\n",
    "stop.append('ur') #in case people typed ur instead of your\n",
    "print(stop)"
   ]
  },
  {
   "cell_type": "code",
   "execution_count": 19,
   "metadata": {
    "colab": {
     "base_uri": "https://localhost:8080/",
     "height": 0
    },
    "colab_type": "code",
    "id": "qagfxYXZbNur",
    "outputId": "68c8bd49-966a-40d3-fdcc-00674f886fc3"
   },
   "outputs": [
    {
     "data": {
      "text/plain": [
       "3192                   bodys like go fuck sleep sami minds like make emergency plan every natural disaster go\n",
       "248                                world annihilation vs self transformation aliens attack exterminate humans\n",
       "1708                                        reading work collided reading pleasure huzzah dont miss vermilion\n",
       "7174                                        growingupblack walking past chicken frying like entering war zone\n",
       "3671                                       wow fatality big rig hit motorcyclist blood everywhere wow im sick\n",
       "7528                                    wreckage conclusively confirmed mh malaysia pm investigators families\n",
       "6784                               rly tragedy mp live recount horror saw coaches train plunging water called\n",
       "2179           love food fun malaysian prime minister najib razak confirmed aircraft debris found runion isla\n",
       "6681                                                                            thunder buddys thunder buddys\n",
       "6416                                             deai suicide bomber kills saudi security site mosque reuters\n",
       "7231                         except ordered carry unauthorized weapons duty military uniforms thats rule fool\n",
       "6084                            share large sinkhole swallows entire pond lowndes county georgia large yonews\n",
       "7300         god forbid true california enough problems severe drought amp wild fires nuclear power sanonofre\n",
       "3211                                  emergency services committee personnel committee meeting thursday night\n",
       "488     cant believe fucking cis female going somehow claim offended transgendered female whos attacked media\n",
       "5277                                                 la times refugio oil spill may costlier bigger projected\n",
       "4227                                             pm hazardous weather outlook hazardous weather expected time\n",
       "3136                       survival kit whistle fire starter wire saw cree torch emergency blanket knife full\n",
       "4646             fb page bushman safaris zimbabwe company palmer used kill cecil inundated negative commentes\n",
       "7124            pov video captures violent landing amsterdam airport schiphol storm daily mail amsterdam news\n",
       "Name: clean, dtype: object"
      ]
     },
     "execution_count": 19,
     "metadata": {},
     "output_type": "execute_result"
    }
   ],
   "source": [
    "train['clean'] = train['clean'].apply(lambda x: \" \".join(x for x in x.split() if x not in stop))\n",
    "train['clean'].sample(20)"
   ]
  },
  {
   "cell_type": "markdown",
   "metadata": {
    "colab_type": "text",
    "id": "C2YWw5p5bNuz"
   },
   "source": [
    "### 2.9 Removing Punctuation\n",
    "The next step is to remove punctuation, as it doesn’t add any extra information while treating text data. Therefore removing all instances of it will help us reduce the size of the training data."
   ]
  },
  {
   "cell_type": "code",
   "execution_count": 20,
   "metadata": {
    "colab": {
     "base_uri": "https://localhost:8080/",
     "height": 0
    },
    "colab_type": "code",
    "id": "AhYVAEjzbNu0",
    "outputId": "a8029969-7fbe-4bc4-964c-00d82da9dc1b"
   },
   "outputs": [
    {
     "data": {
      "text/plain": [
       "1467    catastrophe man opens school wanother hes athlete teacher principle fulfilling inside clerical duties\n",
       "3820                                  thankful first responders especially life saving response today antioch\n",
       "3704                                                                      didnt want hurt fear drove midnight\n",
       "5991                                               hit tailor fucking made double play kay screams robbed hit\n",
       "6376                                 pic yr old pkk suicide bomber detonated bomb turkey army trench released\n",
       "1949                                                                           u bombed u try get home curfew\n",
       "1342              heros fight wars save ppl burning buildings etc im sorry u gotta pay sex change call u hero\n",
       "6702                                                                     thunder outside house afternoon gawx\n",
       "142                                                                     man goes airplane engine accident via\n",
       "5390                     panic attack bc dont enough money drugs alcohol wanted buy year let alone fall bills\n",
       "5785                                          cindy noonan baltimore rioting yahistorical undergroundrailraod\n",
       "7569                                                          thats beyond adorable hope wont wrecked noticed\n",
       "4637            body shops inundated cars dented hail good news insurance pays bad news stuck deductible wcvb\n",
       "4211                    fair enough two best attacking wingers prem hazard willian basically start every game\n",
       "1966                                                                                 excited cyclone football\n",
       "289                                                                     thats planet lone audience apocalypse\n",
       "2675                                                                        apollo brown detonate ft mop fiya\n",
       "5116                                check awesome profile ges swimming robot used nuclear reactors innovation\n",
       "139      experts france begin examining airplane debris found reunion island french air accident experts wedn\n",
       "4119                                                                                 twin storms blow calgary\n",
       "Name: clean, dtype: object"
      ]
     },
     "execution_count": 20,
     "metadata": {},
     "output_type": "execute_result"
    }
   ],
   "source": [
    "train['clean'] = train['clean'].str.replace('[^\\w\\s]','')\n",
    "train['clean'].sample(20)"
   ]
  },
  {
   "cell_type": "markdown",
   "metadata": {
    "colab_type": "text",
    "id": "yZXJv6XmbNu3"
   },
   "source": [
    "As you can see in the above output, all the punctuation, including ‘#’, has been removed from the training data. We want to keep the content in case they are relevant e.g #fire"
   ]
  },
  {
   "cell_type": "markdown",
   "metadata": {
    "colab_type": "text",
    "id": "UUfgiFC8bNu4"
   },
   "source": [
    "### 2.10 Common word removal\n",
    "Previously, we just removed commonly occurring words in a general sense. We can also remove commonly occurring words from our text data First, let’s check the 10 most frequently occurring words in our text data then take call to remove or retain."
   ]
  },
  {
   "cell_type": "code",
   "execution_count": 21,
   "metadata": {
    "colab": {
     "base_uri": "https://localhost:8080/",
     "height": 0
    },
    "colab_type": "code",
    "id": "cMphrufsbNu5",
    "outputId": "8c3a8a08-2790-4090-fe14-6cda8a8b5f91"
   },
   "outputs": [
    {
     "data": {
      "text/plain": [
       "like      345\n",
       "im        306\n",
       "amp       300\n",
       "fire      252\n",
       "get       229\n",
       "new       226\n",
       "via       220\n",
       "dont      208\n",
       "news      196\n",
       "people    195\n",
       "dtype: int64"
      ]
     },
     "execution_count": 21,
     "metadata": {},
     "output_type": "execute_result"
    }
   ],
   "source": [
    "freq = pd.Series(' '.join(train['clean']).split()).value_counts()[:10]\n",
    "freq"
   ]
  },
  {
   "cell_type": "markdown",
   "metadata": {
    "colab_type": "text",
    "id": "8ypzEO4IbNu8"
   },
   "source": [
    "Now, let’s remove these words as their presence will not of any use in classification of our text data, except fire."
   ]
  },
  {
   "cell_type": "code",
   "execution_count": 22,
   "metadata": {
    "colab": {},
    "colab_type": "code",
    "id": "ZwIX3RpYbNu9"
   },
   "outputs": [],
   "source": [
    "freq = list(freq.index)"
   ]
  },
  {
   "cell_type": "code",
   "execution_count": 23,
   "metadata": {
    "colab": {
     "base_uri": "https://localhost:8080/",
     "height": 0
    },
    "colab_type": "code",
    "id": "1WtSGAMBbNvA",
    "outputId": "57053479-b52f-4d32-9250-76561d8abb76"
   },
   "outputs": [
    {
     "name": "stdout",
     "output_type": "stream",
     "text": [
      "['like', 'im', 'amp', 'fire', 'get', 'new', 'via', 'dont', 'news', 'people']\n"
     ]
    }
   ],
   "source": [
    "print(freq)"
   ]
  },
  {
   "cell_type": "code",
   "execution_count": 24,
   "metadata": {
    "colab": {},
    "colab_type": "code",
    "id": "IneI5GzlbNvF"
   },
   "outputs": [],
   "source": [
    "freq.remove('fire')"
   ]
  },
  {
   "cell_type": "code",
   "execution_count": 25,
   "metadata": {
    "colab": {
     "base_uri": "https://localhost:8080/",
     "height": 0
    },
    "colab_type": "code",
    "id": "JjsinGlQbNvJ",
    "outputId": "1353e262-7b0e-4f67-e733-c9bc1a895d60"
   },
   "outputs": [
    {
     "name": "stdout",
     "output_type": "stream",
     "text": [
      "['like', 'im', 'amp', 'get', 'new', 'via', 'dont', 'news', 'people']\n"
     ]
    }
   ],
   "source": [
    "print(freq)"
   ]
  },
  {
   "cell_type": "code",
   "execution_count": 26,
   "metadata": {
    "colab": {
     "base_uri": "https://localhost:8080/",
     "height": 0
    },
    "colab_type": "code",
    "id": "G3R4RokkbNvN",
    "outputId": "f5254e60-2a1f-4105-83f1-4b15df98a009"
   },
   "outputs": [
    {
     "data": {
      "text/plain": [
       "7060                      series finale thegame survived much upheaval audience got much good story\n",
       "17                                                                                    summer lovely\n",
       "6382                           yr old pkk suicide bomber detonated bomb turkey army trench released\n",
       "2921                                                                          wtf mom drowned child\n",
       "7480                     ranking artectura pop n florence machine ship wreck music playlist youtube\n",
       "3818                                                 roadid thanks alex story first responders need\n",
       "6780                                                                                 forget tragedy\n",
       "7286                          highly recommend titania whirlwind reimagining shakespeares midsummer\n",
       "1184                                          two giant cranes holding bridge collapse nearby homes\n",
       "5997                                                    casually phone jasmine cries screams spider\n",
       "1681                                    liked video realities collide life strange hilarious glitch\n",
       "3879                        feel ive flattened sumo wrestler pain gain muaytai wantmyabsback strong\n",
       "4115                                           gotta love summer calgary yyc hailstorm crazyweather\n",
       "7387                                                        school seven bells windstorm nowplaying\n",
       "2795                                      metepec mexico night disastereoficial nitclub msica msica\n",
       "2341         civilian population ever deserves demolition may never forget learn mistakes hiroshima\n",
       "1547                                           nueva favorita emergency feat chemical brothers bits\n",
       "764     queens gambit went well anakin blew droid control ship oh well still fun cant stop next wbc\n",
       "4146                              ive burned self harm way dumbass shouldnt allowed around fire way\n",
       "1291                                                                      burned today oven degrees\n",
       "Name: clean, dtype: object"
      ]
     },
     "execution_count": 26,
     "metadata": {},
     "output_type": "execute_result"
    }
   ],
   "source": [
    "train['clean'] = train['clean'].apply(lambda x: \" \".join(x for x in x.split() if x not in freq))\n",
    "train['clean'].sample(20)"
   ]
  },
  {
   "cell_type": "markdown",
   "metadata": {
    "colab_type": "text",
    "id": "l78zkimMbNvQ"
   },
   "source": [
    "### 2.11 Rare words removal\n",
    "Similarly, just as we removed the most common words, this time let’s remove rarely occurring words from the text. Because they’re so rare, the association between them and other words is dominated by noise. You can replace rare words with a more general form and then this will have higher counts"
   ]
  },
  {
   "cell_type": "code",
   "execution_count": 27,
   "metadata": {
    "colab": {},
    "colab_type": "code",
    "id": "_4hwBn8JbNvR"
   },
   "outputs": [],
   "source": [
    "s = pd.Series(' '.join(train['clean']).split()).value_counts()"
   ]
  },
  {
   "cell_type": "code",
   "execution_count": 28,
   "metadata": {
    "colab": {
     "base_uri": "https://localhost:8080/",
     "height": 0
    },
    "colab_type": "code",
    "id": "d519RnoUbNvW",
    "outputId": "e4e60302-b3ae-400d-c56b-fa919fa5138c"
   },
   "outputs": [
    {
     "data": {
      "text/plain": [
       "Index(['spoke', 'sang', 'cdnpoli', 'trp', 'taxis', 'visiting', 'camper',\n",
       "       'kasabwe', 'brasswork', 'coolweird',\n",
       "       ...\n",
       "       'playingnow', 'harman', 'comprehensive', 'rv', 'misled', 'farmr',\n",
       "       'jesuss', 'gut', 'delusions', 'reserved'],\n",
       "      dtype='object', length=8402)"
      ]
     },
     "execution_count": 28,
     "metadata": {},
     "output_type": "execute_result"
    }
   ],
   "source": [
    "freq1 = s[s == 1].index\n",
    "freq1"
   ]
  },
  {
   "cell_type": "code",
   "execution_count": 29,
   "metadata": {
    "colab": {
     "base_uri": "https://localhost:8080/",
     "height": 0
    },
    "colab_type": "code",
    "id": "GX-Aycx7bNvb",
    "outputId": "e9e22814-de14-4adf-de86-dae486f6b848"
   },
   "outputs": [
    {
     "data": {
      "text/plain": [
       "3379         updated rockyfire map mandatory evacuation areas red advisory evacuation yellow centers green\n",
       "167                                                        risk getting killed cop dying airplane accident\n",
       "1836                            already phone updated somehow phone crashed restore theyre letting restore\n",
       "7048                                                               gpm satellite bullseye typhoon soudelor\n",
       "3727                                     couples less sex fear itll let internet movies books saying sex p\n",
       "7606                             suicide bomber kills saudi security site mosque reuters world google wall\n",
       "6884                                                                                 hes still traumatised\n",
       "6581                                                 anniversary atomic bomb survivors speak nuclear power\n",
       "7371                                                               nowplaying school seven bells windstorm\n",
       "5937                                                                                   never screamed loud\n",
       "4797                         breaking unconfirmed heard loud bang nearby appears blast wind neighbours ass\n",
       "4785                         breaking unconfirmed heard loud bang nearby appears blast wind neighbours ass\n",
       "1319                                                                                    many burning apply\n",
       "3136                    survival kit whistle fire starter wire saw cree torch emergency blanket knife full\n",
       "4891                                                                                               serious\n",
       "3486                                                                           explodes steps philadelphia\n",
       "7389                                                                 wondering drone ended freak windstorm\n",
       "3588                                                                                                   san\n",
       "1791                                                                                        make man crash\n",
       "5263    national briefing west california spring oil spill estimate grows documents released wednesday nyt\n",
       "Name: clean, dtype: object"
      ]
     },
     "execution_count": 29,
     "metadata": {},
     "output_type": "execute_result"
    }
   ],
   "source": [
    "train['clean'] = train['clean'].apply(lambda x: \" \".join(x for x in x.split() if x not in freq1))\n",
    "train['clean'].sample(20)"
   ]
  },
  {
   "cell_type": "markdown",
   "metadata": {
    "colab_type": "text",
    "id": "YsuIPtKEbNve"
   },
   "source": [
    "All these pre-processing steps are essential and help us in reducing our vocabulary clutter so that the features produced in the end are more effective."
   ]
  },
  {
   "cell_type": "markdown",
   "metadata": {
    "colab_type": "text",
    "id": "LN8H15LDbNvf"
   },
   "source": [
    "### 2.12 Spelling correction\n",
    "We’ve all seen tweets with a plethora of spelling mistakes. Our timelines are often filled with hastly sent tweets that are barely legible at times.\n",
    "\n",
    "In that regard, spelling correction is a useful pre-processing step because this also will help us in reducing multiple copies of words. For example, “Analytics” and “analytcs” will be treated as different words even if they are used in the same sense."
   ]
  },
  {
   "cell_type": "code",
   "execution_count": 30,
   "metadata": {
    "colab": {
     "base_uri": "https://localhost:8080/",
     "height": 0
    },
    "colab_type": "code",
    "id": "h-i2vilEbNvf",
    "outputId": "77cfb733-29a5-497b-910f-adf35b96c4a7"
   },
   "outputs": [
    {
     "name": "stdout",
     "output_type": "stream",
     "text": [
      "Wall time: 30min 8s\n"
     ]
    },
    {
     "data": {
      "text/plain": [
       "5381                                               say concern panic many games left games left\n",
       "535                                                                    cant come deal avalanche\n",
       "3687                      kosciusko police investigating pedestrian fatality hit train thursday\n",
       "2048                             girl wanna save danger health try somebody wanna somebody else\n",
       "5210    rare occasion go complete obliterated next day throwing passing body accustomed alcohol\n",
       "6514                                                                                    survive\n",
       "3434                    toronto going crazy blue jays imagine good city might literally explode\n",
       "6725             nws posts severe thunderstorm warnings parts ar nc ok seek strong shelter risk\n",
       "4182                                         choking hazard prompts recall kraft cheese singles\n",
       "1521                                        syndrome name catastrophic space debris destruction\n",
       "6692                                                                hear lightening see thunder\n",
       "3208                                               sustainability force fund emergency services\n",
       "6173                              rappers stop sampling police sirens start sampling whale song\n",
       "3700                                    meaning picked one changed life fear wonder catch light\n",
       "3819                                added sandy first responders lost homes vip home page group\n",
       "5481                                         wired business reddit quarantine offensive content\n",
       "7362                              texas seeks comment rules changes windstorm insurer insurance\n",
       "5098         refugees nuclear disaster western japan beyond thousand least afp guardian nytimes\n",
       "3979                                                                    see flooding mad decent\n",
       "6825                  eudrylantiqua hollywood movie trapped miners released chile eudrylantiqua\n",
       "Name: clean, dtype: object"
      ]
     },
     "execution_count": 30,
     "metadata": {},
     "output_type": "execute_result"
    }
   ],
   "source": [
    "%%time\n",
    "\n",
    "from textblob import TextBlob\n",
    "train['clean'].apply(lambda x: str(TextBlob(x).correct()))\n",
    "\n",
    "train['clean'].sample(20)"
   ]
  },
  {
   "cell_type": "markdown",
   "metadata": {
    "colab_type": "text",
    "id": "HTLlX2N0bNvj"
   },
   "source": [
    "### 2.13 Tokenisation and  Lemmatisation\n",
    "\n",
    "Tokenization refers to dividing the text into a sequence of words or sentences. In our example, we have used the textblob library to first transform our tweets into a blob and then converted them into a series of words."
   ]
  },
  {
   "cell_type": "code",
   "execution_count": 31,
   "metadata": {
    "colab": {},
    "colab_type": "code",
    "id": "wBhcNqDWbNvj"
   },
   "outputs": [],
   "source": [
    "# Init the Wordnet Lemmatizer\n",
    "\n",
    "w_tokenizer = nltk.tokenize.WhitespaceTokenizer()\n",
    "lemmatizer = nltk.stem.WordNetLemmatizer()\n",
    "\n",
    "def lemmatize_verb_text(text):\n",
    "    return [lemmatizer.lemmatize(w, 'v') for w in w_tokenizer.tokenize(text)]"
   ]
  },
  {
   "cell_type": "code",
   "execution_count": 32,
   "metadata": {
    "colab": {
     "base_uri": "https://localhost:8080/",
     "height": 67
    },
    "colab_type": "code",
    "id": "zP3yi-RElqjL",
    "outputId": "c58d3bcf-fe23-4d34-8b4d-f690ccae7d23"
   },
   "outputs": [
    {
     "name": "stderr",
     "output_type": "stream",
     "text": [
      "[nltk_data] Downloading package wordnet to\n",
      "[nltk_data]     C:\\Users\\zheng\\AppData\\Roaming\\nltk_data...\n",
      "[nltk_data]   Package wordnet is already up-to-date!\n"
     ]
    },
    {
     "data": {
      "text/plain": [
       "True"
      ]
     },
     "execution_count": 32,
     "metadata": {},
     "output_type": "execute_result"
    }
   ],
   "source": [
    "nltk.download('wordnet')"
   ]
  },
  {
   "cell_type": "code",
   "execution_count": 33,
   "metadata": {
    "colab": {
     "base_uri": "https://localhost:8080/",
     "height": 370
    },
    "colab_type": "code",
    "id": "Oxth_V_MbNvm",
    "outputId": "2250a901-8878-4440-e1a8-8b99b9b6b153"
   },
   "outputs": [
    {
     "data": {
      "text/plain": [
       "3857                                                                                 [watch, go, flame]\n",
       "739                                                    [let, see, good, soccer, youre, bleed, yo, face]\n",
       "6429                                                                      [hes, lessons, suicide, bomb]\n",
       "3161                                        [blonde, teen, security, guard, set, view, download, video]\n",
       "4152                                                  [inner, man, route, harm, spend, replace, online]\n",
       "2622                                                                [republican, economic, destruction]\n",
       "5364                                                       [heres, part, panic, want, make, better, ok]\n",
       "1232                          [fire, hazard, associate, installation, noncompliant, external, cladding]\n",
       "4604                                                                            [california, explosion]\n",
       "7249    [idea, mean, look, violent, crime, rate, without, weapons, ban, gun, become, mexico, australia]\n",
       "3012                                        [answer, friend, yell, latest, article, read, share, thank]\n",
       "821                                                           [dolphin, group, base, take, look, tweet]\n",
       "1062                                                                               [bomb, ass, picture]\n",
       "2661                                                                  [apollo, brown, detonate, f, mop]\n",
       "2644                                                                       [weapon, cause, destruction]\n",
       "1868                                                                                    [secret, crush]\n",
       "6998                                                                              [twister, bill, hunt]\n",
       "2414                                                          [whoa, wmata, train, derail, smithsonian]\n",
       "4316                                                                        [wow, bet, get, blame, huh]\n",
       "7359                                                                   [windstorm, perquisite, twister]\n",
       "Name: clean, dtype: object"
      ]
     },
     "execution_count": 33,
     "metadata": {},
     "output_type": "execute_result"
    }
   ],
   "source": [
    "train['clean'] = train['clean'].apply(lemmatize_verb_text)\n",
    "train['clean'].sample(20)"
   ]
  },
  {
   "cell_type": "code",
   "execution_count": 34,
   "metadata": {
    "colab": {},
    "colab_type": "code",
    "id": "Ghdff9kVbNvp"
   },
   "outputs": [],
   "source": [
    "train['clean'] = train['clean'].apply(lambda x: \" \".join([str(word) for word in x]))"
   ]
  },
  {
   "cell_type": "code",
   "execution_count": 35,
   "metadata": {
    "colab": {
     "base_uri": "https://localhost:8080/",
     "height": 370
    },
    "colab_type": "code",
    "id": "1g88cnBsbNvt",
    "outputId": "23cb8c69-cee6-4ce9-ecac-a5bd0b1b537f"
   },
   "outputs": [
    {
     "data": {
      "text/plain": [
       "422                                                   anything nice say come sit\n",
       "427                                                             take arsonist mc\n",
       "7137                                usgs km volcano hawaii time utc epicenter sm\n",
       "7606    suicide bomber kill saudi security site mosque reuters world google wall\n",
       "2489           daniel time daily shall take away abomination maketh desolate set\n",
       "4719                              may get little exit home make lava lamp source\n",
       "5549                                 go beach jim mean guarantee rainstorm lucky\n",
       "5360                                 drake rep night shots musik wasnt panic fun\n",
       "3001          keep either someone place southern dust storm house someone talkin\n",
       "3998                    dead due flood myanmar aug death toll rise today myanmar\n",
       "2690                                       look upon three electrical detonation\n",
       "2064                                 remember time goku give life dead hell goku\n",
       "1944                                                            get whole curfew\n",
       "1138                      cryptic word guide pilot hiroshima bomb mission canada\n",
       "2791                                                               deal disaster\n",
       "4762      world war ii book lightning joe autobiography general j lawton collins\n",
       "5505    reddits content policy go effect many horrible subreddits ban quarantine\n",
       "632                                              due ugly whos id u another home\n",
       "473                      strongly condemn attack team karachi act simply try job\n",
       "4935                             ive see lot ask mt ask magic fantasy whats diff\n",
       "Name: clean, dtype: object"
      ]
     },
     "execution_count": 35,
     "metadata": {},
     "output_type": "execute_result"
    }
   ],
   "source": [
    "train['clean'].sample(20)"
   ]
  },
  {
   "cell_type": "markdown",
   "metadata": {
    "colab_type": "text",
    "id": "RcvW06labNvw"
   },
   "source": [
    "### 2.14 Final Product"
   ]
  },
  {
   "cell_type": "code",
   "execution_count": 36,
   "metadata": {
    "colab": {
     "base_uri": "https://localhost:8080/",
     "height": 0
    },
    "colab_type": "code",
    "id": "9UHXtVF7bNvw",
    "outputId": "f1991e20-4000-4be4-ab6b-3b908723b9cf"
   },
   "outputs": [
    {
     "data": {
      "text/html": [
       "<div>\n",
       "<style scoped>\n",
       "    .dataframe tbody tr th:only-of-type {\n",
       "        vertical-align: middle;\n",
       "    }\n",
       "\n",
       "    .dataframe tbody tr th {\n",
       "        vertical-align: top;\n",
       "    }\n",
       "\n",
       "    .dataframe thead th {\n",
       "        text-align: right;\n",
       "    }\n",
       "</style>\n",
       "<table border=\"1\" class=\"dataframe\">\n",
       "  <thead>\n",
       "    <tr style=\"text-align: right;\">\n",
       "      <th></th>\n",
       "      <th>text</th>\n",
       "      <th>clean</th>\n",
       "    </tr>\n",
       "  </thead>\n",
       "  <tbody>\n",
       "    <tr>\n",
       "      <th>7504</th>\n",
       "      <td>I'm an emotional wreck watching emmerdale</td>\n",
       "      <td>emotional wreck watch emmerdale</td>\n",
       "    </tr>\n",
       "    <tr>\n",
       "      <th>6674</th>\n",
       "      <td>#PlayingNow #BLOODBOUND Seven Angels Media Stream http://t.co/dlY6rUuSqK</td>\n",
       "      <td>seven angels media stream</td>\n",
       "    </tr>\n",
       "    <tr>\n",
       "      <th>2843</th>\n",
       "      <td>PennLive - Two families displaced by Mechanicsburg blaze - No one was injured in the fire. http://t.co/OHYD7Hhcpe</td>\n",
       "      <td>two families displace blaze one injure fire</td>\n",
       "    </tr>\n",
       "    <tr>\n",
       "      <th>7261</th>\n",
       "      <td>Only been back 10 &amp;amp; a whirlwind has hit jaiden started open his present straight away didn't even get chance get in &amp;amp; sit down lol</td>\n",
       "      <td>back whirlwind hit start open present straight away didnt even chance sit lol</td>\n",
       "    </tr>\n",
       "    <tr>\n",
       "      <th>1592</th>\n",
       "      <td>That sounds like a really bad idea I like Yoenis but I feel like his production could fall off a huge cliff.</td>\n",
       "      <td>sound really bad idea feel could fall huge cliff</td>\n",
       "    </tr>\n",
       "    <tr>\n",
       "      <th>7372</th>\n",
       "      <td>Windstorm board OKs rate hike before change http://t.co/AI6kwOrBbT #politics #txlege #twia</td>\n",
       "      <td>windstorm board oks rate hike change politics twia</td>\n",
       "    </tr>\n",
       "    <tr>\n",
       "      <th>3051</th>\n",
       "      <td>Contruction upgrading ferries to earthquake standards in Vashon Mukilteo: The upgrades will bring the vulnera... http://t.co/Au5jWGT0ar</td>\n",
       "      <td>contruction upgrade ferry earthquake standards vashon mukilteo bring</td>\n",
       "    </tr>\n",
       "    <tr>\n",
       "      <th>1915</th>\n",
       "      <td>@keampurley thirst has no curfew</td>\n",
       "      <td>thirst curfew</td>\n",
       "    </tr>\n",
       "    <tr>\n",
       "      <th>2946</th>\n",
       "      <td>I got drowned like 5 times in the damn game today ????????????</td>\n",
       "      <td>get drown time damn game today</td>\n",
       "    </tr>\n",
       "    <tr>\n",
       "      <th>4696</th>\n",
       "      <td>So cool @GarbanzoBean23 in the news! Cutest INDOT worker but I might be a little bias ?? http://t.co/g7K9TqVQbk</td>\n",
       "      <td>cool worker might little</td>\n",
       "    </tr>\n",
       "    <tr>\n",
       "      <th>4440</th>\n",
       "      <td>I sent my emails why are the TRINNA hold me hostage  rapping me up ??</td>\n",
       "      <td>send email hold hostage rap</td>\n",
       "    </tr>\n",
       "    <tr>\n",
       "      <th>1862</th>\n",
       "      <td>When you're girlfriend is completely gorgeous???? @ woman crush &amp;amp; stuff https://t.co/ycwAULQz3U</td>\n",
       "      <td>youre girlfriend completely gorgeous woman crush stuff</td>\n",
       "    </tr>\n",
       "    <tr>\n",
       "      <th>1070</th>\n",
       "      <td>New Documents Found Pointing To Japan's WWII Atomic Bomb Program http://t.co/IucPcSfbMT</td>\n",
       "      <td>document find point japan wwii atomic bomb program</td>\n",
       "    </tr>\n",
       "    <tr>\n",
       "      <th>3136</th>\n",
       "      <td>Survival Kit Whistle Fire Starter Wire Saw Cree Torch Emergency Blanket S knife  - Full reÛ_ http://t.co/2OroYUNYM2 http://t.co/C9JnXz3DXC</td>\n",
       "      <td>survival kit whistle fire starter wire saw cree torch emergency blanket knife full</td>\n",
       "    </tr>\n",
       "    <tr>\n",
       "      <th>5020</th>\n",
       "      <td>'It looks like a mudslide' poor thing! ?? #greatbritishbakeoff</td>\n",
       "      <td>look mudslide poor thing greatbritishbakeoff</td>\n",
       "    </tr>\n",
       "    <tr>\n",
       "      <th>2032</th>\n",
       "      <td>My take away: preservation parks r an imposition &amp;amp; a danger to African people. I never imagined!  https://t.co/Gi2P9TUVBI</td>\n",
       "      <td>take away preservation r danger never imagine</td>\n",
       "    </tr>\n",
       "    <tr>\n",
       "      <th>240</th>\n",
       "      <td>@thatdes ok i wasn't completely forthright i may have also been in a food coma bc of the kebab/tahini/pickles i also annihilated w/fries</td>\n",
       "      <td>ok wasnt completely may also food bc also annihilate</td>\n",
       "    </tr>\n",
       "    <tr>\n",
       "      <th>2227</th>\n",
       "      <td>The f$&amp;amp;@ing things I do for #GISHWHES Just got soaked in a deluge going for pads and tampons. Thx @mishacollins @/@</td>\n",
       "      <td>things get deluge go thx</td>\n",
       "    </tr>\n",
       "    <tr>\n",
       "      <th>2904</th>\n",
       "      <td>@jasminehuerta24 I hope you drown ??</td>\n",
       "      <td>hope drown</td>\n",
       "    </tr>\n",
       "    <tr>\n",
       "      <th>2776</th>\n",
       "      <td>#health #Newyear The anniversary of the devastation wrought by the first military use of an atomic weapon come...  http://t.co/yuo7jDnijx</td>\n",
       "      <td>health anniversary devastation work first military use atomic weapon come</td>\n",
       "    </tr>\n",
       "  </tbody>\n",
       "</table>\n",
       "</div>"
      ],
      "text/plain": [
       "                                                                                                                                             text  \\\n",
       "7504                                                                                                    I'm an emotional wreck watching emmerdale   \n",
       "6674                                                                     #PlayingNow #BLOODBOUND Seven Angels Media Stream http://t.co/dlY6rUuSqK   \n",
       "2843                            PennLive - Two families displaced by Mechanicsburg blaze - No one was injured in the fire. http://t.co/OHYD7Hhcpe   \n",
       "7261   Only been back 10 &amp; a whirlwind has hit jaiden started open his present straight away didn't even get chance get in &amp; sit down lol   \n",
       "1592                                 That sounds like a really bad idea I like Yoenis but I feel like his production could fall off a huge cliff.   \n",
       "7372                                                   Windstorm board OKs rate hike before change http://t.co/AI6kwOrBbT #politics #txlege #twia   \n",
       "3051      Contruction upgrading ferries to earthquake standards in Vashon Mukilteo: The upgrades will bring the vulnera... http://t.co/Au5jWGT0ar   \n",
       "1915                                                                                                             @keampurley thirst has no curfew   \n",
       "2946                                                                               I got drowned like 5 times in the damn game today ????????????   \n",
       "4696                              So cool @GarbanzoBean23 in the news! Cutest INDOT worker but I might be a little bias ?? http://t.co/g7K9TqVQbk   \n",
       "4440                                                                        I sent my emails why are the TRINNA hold me hostage  rapping me up ??   \n",
       "1862                                          When you're girlfriend is completely gorgeous???? @ woman crush &amp; stuff https://t.co/ycwAULQz3U   \n",
       "1070                                                      New Documents Found Pointing To Japan's WWII Atomic Bomb Program http://t.co/IucPcSfbMT   \n",
       "3136  Survival Kit Whistle Fire Starter Wire Saw Cree Torch Emergency Blanket S knife  - Full reÛ_ http://t.co/2OroYUNYM2 http://t.co/C9JnXz3DXC   \n",
       "5020                                                                               'It looks like a mudslide' poor thing! ?? #greatbritishbakeoff   \n",
       "2032                My take away: preservation parks r an imposition &amp; a danger to African people. I never imagined!  https://t.co/Gi2P9TUVBI   \n",
       "240      @thatdes ok i wasn't completely forthright i may have also been in a food coma bc of the kebab/tahini/pickles i also annihilated w/fries   \n",
       "2227                      The f$&amp;@ing things I do for #GISHWHES Just got soaked in a deluge going for pads and tampons. Thx @mishacollins @/@   \n",
       "2904                                                                                                         @jasminehuerta24 I hope you drown ??   \n",
       "2776    #health #Newyear The anniversary of the devastation wrought by the first military use of an atomic weapon come...  http://t.co/yuo7jDnijx   \n",
       "\n",
       "                                                                                   clean  \n",
       "7504                                                     emotional wreck watch emmerdale  \n",
       "6674                                                           seven angels media stream  \n",
       "2843                                         two families displace blaze one injure fire  \n",
       "7261       back whirlwind hit start open present straight away didnt even chance sit lol  \n",
       "1592                                    sound really bad idea feel could fall huge cliff  \n",
       "7372                                  windstorm board oks rate hike change politics twia  \n",
       "3051                contruction upgrade ferry earthquake standards vashon mukilteo bring  \n",
       "1915                                                                       thirst curfew  \n",
       "2946                                                      get drown time damn game today  \n",
       "4696                                                            cool worker might little  \n",
       "4440                                                         send email hold hostage rap  \n",
       "1862                              youre girlfriend completely gorgeous woman crush stuff  \n",
       "1070                                  document find point japan wwii atomic bomb program  \n",
       "3136  survival kit whistle fire starter wire saw cree torch emergency blanket knife full  \n",
       "5020                                        look mudslide poor thing greatbritishbakeoff  \n",
       "2032                                       take away preservation r danger never imagine  \n",
       "240                                 ok wasnt completely may also food bc also annihilate  \n",
       "2227                                                            things get deluge go thx  \n",
       "2904                                                                          hope drown  \n",
       "2776           health anniversary devastation work first military use atomic weapon come  "
      ]
     },
     "execution_count": 36,
     "metadata": {},
     "output_type": "execute_result"
    }
   ],
   "source": [
    "train[['text','clean']].sample(20)"
   ]
  },
  {
   "cell_type": "markdown",
   "metadata": {
    "colab_type": "text",
    "id": "_uwUwy5FbNv3"
   },
   "source": [
    "### 2.15 Word Cloud"
   ]
  },
  {
   "cell_type": "markdown",
   "metadata": {
    "colab_type": "text",
    "id": "LBUZe5ZQbNv6"
   },
   "source": [
    "# 3. Modelling"
   ]
  },
  {
   "cell_type": "code",
   "execution_count": 37,
   "metadata": {
    "colab": {},
    "colab_type": "code",
    "id": "FfKIK1yPbNv6"
   },
   "outputs": [],
   "source": [
    "# helper function to show results and charts\n",
    "def show_summary_report(actual, prediction):\n",
    "\n",
    "    accuracy_ = accuracy_score(actual, prediction)\n",
    "    precision_ = precision_score(actual, prediction)\n",
    "    recall_ = recall_score(actual, prediction)\n",
    "    roc_auc_ = roc_auc_score(actual, prediction)\n",
    "\n",
    "    print('Accuracy : %.4f [(TP + TN) / N] Proportion of predicted labels that match the true labels. Best: 1, Worst: 0' % accuracy_)\n",
    "    print('Precision: %.4f [TP / (TP + FP)] Not to label a negative sample as positive.        Best: 1, Worst: 0' % precision_)\n",
    "    print('Recall   : %.4f [TP / (TP + FN)] Find all the positive samples.                     Best: 1, Worst: 0' % recall_)\n",
    "    print('ROC AUC  : %.4f                                                                     Best: 1, Worst: < 0.5' % roc_auc_)\n",
    "    print('-' * 107)\n",
    "    print('TP: True Positives, FP: False Positives, TN: True Negatives, FN: False Negatives, N: Number of samples')\n",
    "\n",
    "    # Confusion Matrix\n",
    "    mat = confusion_matrix(actual, prediction)\n",
    "\n",
    "    # Precision/Recall\n",
    "    precision, recall, _ = precision_recall_curve(actual, prediction)\n",
    "    average_precision = average_precision_score(actual, prediction)\n",
    "    \n",
    "    # Compute ROC curve and ROC area\n",
    "    fpr, tpr, _ = roc_curve(actual, prediction)\n",
    "    roc_auc = auc(fpr, tpr)\n",
    "\n",
    "    # plot\n",
    "    fig, ax = plt.subplots(1, 3, figsize = (18, 6))\n",
    "    fig.subplots_adjust(left = 0.02, right = 0.98, wspace = 0.2)\n",
    "\n",
    "    # Confusion Matrix\n",
    "    sns.heatmap(mat.T, square = True, annot = True, annot_kws={\"size\": 16}, fmt = 'd', cbar = False, cmap = 'Blues', ax = ax[0])\n",
    "\n",
    "    label_font = {'size':'15'} \n",
    "    title_font = {'size':'21'}\n",
    "    \n",
    "    ax[0].set_title('Confusion Matrix', fontdict=title_font)\n",
    "    ax[0].set_xlabel('True label', fontdict=label_font)\n",
    "    ax[0].set_ylabel('Predicted label', fontdict=label_font)\n",
    "    \n",
    "    # Precision/Recall\n",
    "    step_kwargs = {'step': 'post'}\n",
    "    ax[1].step(recall, precision, color = 'b', alpha = 0.2, where = 'post')\n",
    "    ax[1].fill_between(recall, precision, alpha = 0.2, color = 'b', **step_kwargs)\n",
    "    ax[1].set_ylim([0.0, 1.0])\n",
    "    ax[1].set_xlim([0.0, 1.0])\n",
    "    ax[1].set_xlabel('Recall', fontdict=label_font)\n",
    "    ax[1].set_ylabel('Precision', fontdict=label_font)\n",
    "    ax[1].set_title('2-class Precision-Recall curve', fontdict=title_font)\n",
    "\n",
    "    # ROC\n",
    "    ax[2].plot(fpr, tpr, color = 'darkorange', lw = 2, label = 'ROC curve (AUC = %0.2f)' % roc_auc)\n",
    "    ax[2].plot([0, 1], [0, 1], color = 'navy', lw = 2, linestyle = '--')\n",
    "    ax[2].set_xlim([0.0, 1.0])\n",
    "    ax[2].set_ylim([0.0, 1.0])\n",
    "    ax[2].set_xlabel('False Positive Rate', fontdict=label_font)\n",
    "    ax[2].set_ylabel('True Positive Rate', fontdict=label_font)\n",
    "    ax[2].set_title('Receiver Operating Characteristic', fontdict=title_font)\n",
    "    ax[2].legend(loc = 'lower right',  prop={'size': 15})\n",
    "\n",
    "    plt.show()\n",
    "    \n",
    "    return (accuracy_, precision_, recall_, roc_auc_)"
   ]
  },
  {
   "cell_type": "markdown",
   "metadata": {
    "colab_type": "text",
    "id": "EF0fd2b-bNv-"
   },
   "source": [
    "# 3.2 Set Feature Labels"
   ]
  },
  {
   "cell_type": "code",
   "execution_count": 38,
   "metadata": {
    "colab": {
     "base_uri": "https://localhost:8080/",
     "height": 50
    },
    "colab_type": "code",
    "id": "W8xAikn-bNv-",
    "outputId": "45cddced-c6b5-46e2-ffa3-37849bf3e59f"
   },
   "outputs": [
    {
     "name": "stdout",
     "output_type": "stream",
     "text": [
      "# Train data samples: 6090\n",
      "# Test data samples: 1523\n"
     ]
    }
   ],
   "source": [
    "# Features and Labels\n",
    "X = train['clean']\n",
    "y = train['target']\n",
    "\n",
    "# split the dataset\n",
    "X_train, X_test, y_train, y_test = train_test_split(X, y, test_size = 0.2, random_state = 42, stratify = y)\n",
    "\n",
    "print('# Train data samples:', X_train.shape[0])\n",
    "print('# Test data samples:', X_test.shape[0])\n",
    "assert X_train.shape[0] == y_train.shape[0]\n",
    "assert X_test.shape[0] == y_test.shape[0]"
   ]
  },
  {
   "cell_type": "markdown",
   "metadata": {
    "colab_type": "text",
    "id": "KtIKt8u2bNwE"
   },
   "source": [
    "# 4. Feature Engineering"
   ]
  },
  {
   "cell_type": "markdown",
   "metadata": {
    "colab_type": "text",
    "id": "xvWitdjFmJL-"
   },
   "source": [
    "Then we set some parameters that will be used throughout the notebook. The batch size is the number of samples processed before the model is updated. The number of epochs is the number of complete passes (iteration) through the training dataset."
   ]
  },
  {
   "cell_type": "code",
   "execution_count": 39,
   "metadata": {
    "colab": {},
    "colab_type": "code",
    "id": "LU5SpDKKmDfW"
   },
   "outputs": [],
   "source": [
    "NB_WORDS = 10000  # Parameter indicating the number of words we'll put in the dictionary to create word vector\n",
    "VAL_SIZE = 1000  # Size of the validation set\n",
    "NB_START_EPOCHS = 20  # Number of epochs we usually start to train with\n",
    "BATCH_SIZE = 512  # Size of the batches used in the mini-batch gradient descent"
   ]
  },
  {
   "cell_type": "code",
   "execution_count": 40,
   "metadata": {
    "colab": {},
    "colab_type": "code",
    "id": "gM4Bs42_mhh-"
   },
   "outputs": [],
   "source": [
    "tk = Tokenizer(num_words=NB_WORDS,\n",
    "               filters='!\"#$%&()*+,-./:;<=>?@[\\\\]^_`{|}~\\t\\n',\n",
    "               lower=True,\n",
    "               split=\" \")\n",
    "tk.fit_on_texts(X_train)"
   ]
  },
  {
   "cell_type": "code",
   "execution_count": 41,
   "metadata": {
    "colab": {
     "base_uri": "https://localhost:8080/",
     "height": 50
    },
    "colab_type": "code",
    "id": "Zg6DdpcinLHe",
    "outputId": "b8b3c202-425d-4d37-d9db-5cbb84aa63dd"
   },
   "outputs": [
    {
     "name": "stdout",
     "output_type": "stream",
     "text": [
      "Fitted tokenizer on 6090 documents\n",
      "10000 words in dictionary\n"
     ]
    }
   ],
   "source": [
    "print('Fitted tokenizer on {} documents'.format(tk.document_count))\n",
    "print('{} words in dictionary'.format(tk.num_words))"
   ]
  },
  {
   "cell_type": "code",
   "execution_count": 42,
   "metadata": {
    "colab": {
     "base_uri": "https://localhost:8080/",
     "height": 34
    },
    "colab_type": "code",
    "id": "WrqZGHhqnjIq",
    "outputId": "2ad235cc-6f24-4ce3-c516-6a57643083d8"
   },
   "outputs": [
    {
     "name": "stdout",
     "output_type": "stream",
     "text": [
      "\"forest fire near la canada\" is converted into [1333, 2394, 4538, 955, 585, 777, 378]\n"
     ]
    }
   ],
   "source": [
    "X_train_seq = tk.texts_to_sequences(X_train)\n",
    "X_test_seq = tk.texts_to_sequences(X_test)\n",
    "print('\"{}\" is converted into {}'.format(X_train[1], X_train_seq[1]))"
   ]
  },
  {
   "cell_type": "markdown",
   "metadata": {
    "colab_type": "text",
    "id": "wbMb6-BLoRLY"
   },
   "source": [
    "One hot encoding is very explained in this link. Essentially, it is a binary indicator of whether a feature (word etc) exists in the training documents or not. It is used in this instance as instead of showing the positional index of a particular word, it indicates 1/0 if the word is present in the document."
   ]
  },
  {
   "cell_type": "code",
   "execution_count": 43,
   "metadata": {
    "colab": {},
    "colab_type": "code",
    "id": "S3ygYqq9bNyg"
   },
   "outputs": [],
   "source": [
    "def one_hot_seq(seqs, nb_features = NB_WORDS):\n",
    "    ohs = np.zeros((len(seqs), nb_features))\n",
    "    for i, s in enumerate(seqs):\n",
    "        ohs[i, s] = 1.\n",
    "    return ohs"
   ]
  },
  {
   "cell_type": "code",
   "execution_count": 44,
   "metadata": {
    "colab": {
     "base_uri": "https://localhost:8080/",
     "height": 50
    },
    "colab_type": "code",
    "id": "Szc343iHoZlX",
    "outputId": "dd0636fe-28a8-4155-f13b-d5f3c4f06da9"
   },
   "outputs": [
    {
     "name": "stdout",
     "output_type": "stream",
     "text": [
      "\"[1333, 2394, 4538, 955, 585, 777, 378]\" is converted into [0. 0. 0. ... 0. 0. 0.]\n",
      "For this example we have 7.0 features with a value of 1.\n"
     ]
    }
   ],
   "source": [
    "X_train_oh = one_hot_seq(X_train_seq)\n",
    "X_test_oh = one_hot_seq(X_test_seq)\n",
    "\n",
    "print('\"{}\" is converted into {}'.format(X_train_seq[1], X_train_oh[1]))\n",
    "print('For this example we have {} features with a value of 1.'.format(X_train_oh[1].sum()))"
   ]
  },
  {
   "cell_type": "code",
   "execution_count": 45,
   "metadata": {
    "colab": {
     "base_uri": "https://localhost:8080/",
     "height": 50
    },
    "colab_type": "code",
    "id": "X30AiLC5uRJY",
    "outputId": "536f1b16-e1fe-495c-fac2-fc83fd9c776c"
   },
   "outputs": [
    {
     "name": "stdout",
     "output_type": "stream",
     "text": [
      "\"1\" is converted into 0\n",
      "\"0\" is converted into [1. 0.]\n"
     ]
    }
   ],
   "source": [
    "le = LabelEncoder()\n",
    "y_train_le = le.fit_transform(y_train)\n",
    "y_test_le = le.transform(y_test)\n",
    "y_train_oh = to_categorical(y_train_le)\n",
    "y_test_oh = to_categorical(y_test_le)\n",
    "print('\"{}\" is converted into {}'.format(y_train[1], y_train_le[1]))\n",
    "print('\"{}\" is converted into {}'.format(y_train_le[1], y_train_oh[1]))"
   ]
  },
  {
   "cell_type": "code",
   "execution_count": 46,
   "metadata": {
    "colab": {
     "base_uri": "https://localhost:8080/",
     "height": 34
    },
    "colab_type": "code",
    "id": "k-9PQc07o3sv",
    "outputId": "49dde50a-c536-47bd-c950-780b03a246d5"
   },
   "outputs": [
    {
     "name": "stdout",
     "output_type": "stream",
     "text": [
      "Shape of validation set: (1218, 10000)\n"
     ]
    }
   ],
   "source": [
    "X_train_rest, X_valid, y_train_rest, y_valid = train_test_split(X_train_oh, y_train_oh, test_size=0.2, random_state=42)\n",
    "\n",
    "assert X_valid.shape[0] == y_valid.shape[0]\n",
    "assert X_train_rest.shape[0] == y_train_rest.shape[0]\n",
    "\n",
    "print('Shape of validation set:',X_valid.shape)"
   ]
  },
  {
   "cell_type": "markdown",
   "metadata": {
    "colab_type": "text",
    "id": "YTh6PbS6-kEf"
   },
   "source": [
    "## 4.1 Set-up of Dense Feedforward Classifier\n",
    "The model used is a sequential model with 2 intermediate hidden layers. In the input layer, there are 64 neurons (what is described as a perceptron). As there are 10000 words, total no of parameters in the first layer = 64*10000 + 64 (for constants) = 640064.\n",
    "\n",
    "In the 2nd layer, this takes the output from the 1st layer (64 outputs from the 64 neurons) Total no of parameters = 64*64 + 64 = 4160.\n",
    "\n",
    "There are 2 outputs (shape) from the last output layer which correspond to probabilities of the 2 classes - real and fake. Total no of parameters = 64* 2 +2 = 130\n",
    "\n",
    "The Dense FNN is the simplest model that should be understood first in DL."
   ]
  },
  {
   "cell_type": "code",
   "execution_count": 47,
   "metadata": {
    "colab": {
     "base_uri": "https://localhost:8080/",
     "height": 252
    },
    "colab_type": "code",
    "id": "_UT4HQmCr36o",
    "outputId": "5ac37ac7-4d91-4290-8858-35121ab25dcc"
   },
   "outputs": [
    {
     "name": "stdout",
     "output_type": "stream",
     "text": [
      "Model: \"sequential\"\n",
      "_________________________________________________________________\n",
      "Layer (type)                 Output Shape              Param #   \n",
      "=================================================================\n",
      "dense (Dense)                (None, 64)                640064    \n",
      "_________________________________________________________________\n",
      "dense_1 (Dense)              (None, 64)                4160      \n",
      "_________________________________________________________________\n",
      "dense_2 (Dense)              (None, 2)                 130       \n",
      "=================================================================\n",
      "Total params: 644,354\n",
      "Trainable params: 644,354\n",
      "Non-trainable params: 0\n",
      "_________________________________________________________________\n"
     ]
    }
   ],
   "source": [
    "base_model = models.Sequential()\n",
    "base_model.add(layers.Dense(64, activation='relu', input_shape=(NB_WORDS,)))\n",
    "base_model.add(layers.Dense(64, activation='relu'))\n",
    "base_model.add(layers.Dense(2, activation='softmax'))\n",
    "base_model.summary()"
   ]
  },
  {
   "cell_type": "markdown",
   "metadata": {
    "colab_type": "text",
    "id": "Vz3cPgsV-kEm"
   },
   "source": [
    "Next, the model is compiled. The loss function is meant for categorical classifications. \n",
    "$-(y log(p) + (1-y) log(1-p))$ So suppose for a positive label, and the classifier classes the positive/ negative classes as (0.8,0.2), $p=0.8, y=1$ for the cross entropy calculated as $0.223$. If it classifies as 100% positive, the cross entropy is 0."
   ]
  },
  {
   "cell_type": "code",
   "execution_count": 48,
   "metadata": {
    "colab": {},
    "colab_type": "code",
    "id": "tPH-POV4sLoa"
   },
   "outputs": [],
   "source": [
    "def deep_model(model):\n",
    "    model.compile(optimizer='adam'\n",
    "                  , loss='binary_crossentropy'\n",
    "                  , metrics=['accuracy',tf.keras.metrics.Precision(), tf.keras.metrics.Recall(), tf.keras.metrics.AUC()])\n",
    "    \n",
    "    history = model.fit(X_train_rest\n",
    "                       , y_train_rest\n",
    "                       , epochs=NB_START_EPOCHS\n",
    "                       , batch_size=BATCH_SIZE\n",
    "                       , validation_data=(X_valid, y_valid)\n",
    "                       , verbose=0)\n",
    "    \n",
    "    return history\n",
    "\n",
    "base_history = deep_model(base_model)"
   ]
  },
  {
   "cell_type": "markdown",
   "metadata": {
    "colab_type": "text",
    "id": "dJrXFBV0x6nc"
   },
   "source": [
    "Note the below, where with the no of epochs (iterations), the train loss decreases. However, the validation losses increases. This is a symptom of over-fitting. Too often, this occurs for deep learning. The same thing occurs for the accuracy, which increases for the training set but remain stagnant for the validation set."
   ]
  },
  {
   "cell_type": "code",
   "execution_count": 49,
   "metadata": {
    "colab": {},
    "colab_type": "code",
    "id": "7WADP5c2x7pq"
   },
   "outputs": [
    {
     "data": {
      "image/png": "[encoded data removed]",
      "text/plain": [
       "<Figure size 576x396 with 1 Axes>"
      ]
     },
     "metadata": {},
     "output_type": "display_data"
    },
    {
     "data": {
      "image/png": "[encoded data removed]",
      "text/plain": [
       "<Figure size 576x396 with 1 Axes>"
      ]
     },
     "metadata": {},
     "output_type": "display_data"
    }
   ],
   "source": [
    "def eval_metric(history, metric_name):\n",
    "    metric = history.history[metric_name]\n",
    "    val_metric = history.history['val_' + metric_name]\n",
    "\n",
    "    e = range(1, NB_START_EPOCHS + 1)\n",
    "\n",
    "    plt.plot(e, metric, 'bo', label='Train ' + metric_name)\n",
    "    plt.plot(e, val_metric, 'b', label='Validation ' + metric_name)\n",
    "    plt.legend()\n",
    "    plt.show()\n",
    "    \n",
    "eval_metric(base_history, 'loss')\n",
    "eval_metric(base_history, 'accuracy')"
   ]
  },
  {
   "cell_type": "markdown",
   "metadata": {
    "colab_type": "text",
    "id": "j74UyoANyG3w"
   },
   "source": [
    "In the next example, what we do is to remove one hidden layer and also decrease the no of neurons from 64 to 32. This will hopefully reduce over-fitting"
   ]
  },
  {
   "cell_type": "markdown",
   "metadata": {
    "colab_type": "text",
    "id": "xpQ8KiPCyWC9"
   },
   "source": [
    "## 4.2 Less over-fitting with reduced model\n",
    "Indeed as we observe, the baseline model sees increasing losses while the reduced model (with fewer neurons and one hidden layer less) loss does not increase even with increasing epochs."
   ]
  },
  {
   "cell_type": "code",
   "execution_count": 50,
   "metadata": {
    "colab": {
     "base_uri": "https://localhost:8080/",
     "height": 218
    },
    "colab_type": "code",
    "id": "FbLWTsX3yHns",
    "outputId": "c28cc0ed-66e4-44ee-f9b1-8cf470ce06de"
   },
   "outputs": [
    {
     "name": "stdout",
     "output_type": "stream",
     "text": [
      "Model: \"sequential_1\"\n",
      "_________________________________________________________________\n",
      "Layer (type)                 Output Shape              Param #   \n",
      "=================================================================\n",
      "dense_3 (Dense)              (None, 32)                320032    \n",
      "_________________________________________________________________\n",
      "dense_4 (Dense)              (None, 2)                 66        \n",
      "=================================================================\n",
      "Total params: 320,098\n",
      "Trainable params: 320,098\n",
      "Non-trainable params: 0\n",
      "_________________________________________________________________\n"
     ]
    }
   ],
   "source": [
    "reduced_model = models.Sequential()\n",
    "reduced_model.add(layers.Dense(32, activation='relu', input_shape=(NB_WORDS,)))\n",
    "reduced_model.add(layers.Dense(2, activation='softmax'))\n",
    "reduced_model.summary()\n",
    "\n",
    "reduced_history = deep_model(reduced_model)\n"
   ]
  },
  {
   "cell_type": "code",
   "execution_count": 51,
   "metadata": {
    "colab": {},
    "colab_type": "code",
    "id": "F3Hz25E2yVOU"
   },
   "outputs": [
    {
     "data": {
      "image/png": "[encoded data removed]",
      "text/plain": [
       "<Figure size 576x396 with 1 Axes>"
      ]
     },
     "metadata": {},
     "output_type": "display_data"
    }
   ],
   "source": [
    "def compare_loss_with_baseline(h, model_name):\n",
    "    loss_base_model = base_history.history['val_loss']\n",
    "    loss_model = h.history['val_loss']\n",
    "\n",
    "    e = range(1, NB_START_EPOCHS + 1)\n",
    "\n",
    "    plt.plot(e, loss_base_model, 'b', label='Validation Loss Baseline Model')\n",
    "    plt.plot(e, loss_model, 'bo', label='Validation Loss ' + model_name)\n",
    "    plt.legend()\n",
    "    plt.show()\n",
    "    \n",
    "compare_loss_with_baseline(reduced_history, 'Reduced Model')"
   ]
  },
  {
   "cell_type": "markdown",
   "metadata": {
    "colab_type": "text",
    "id": "-uYn9F76yohd"
   },
   "source": [
    "## 4.3 Reduce over-fitting with regularizer\n",
    "Another method to reduce over-fitting is adding a penalty through a regularizer, which relays the weights in each layer to the final loss function. Again as seen below, the regularised model sees a consistent loss relative to the baseline model."
   ]
  },
  {
   "cell_type": "code",
   "execution_count": 52,
   "metadata": {
    "colab": {
     "base_uri": "https://localhost:8080/",
     "height": 252
    },
    "colab_type": "code",
    "id": "iGFFFjWxypCd",
    "outputId": "98d019ea-1ca8-47ed-aacb-5c2e9a19f070"
   },
   "outputs": [
    {
     "name": "stdout",
     "output_type": "stream",
     "text": [
      "Model: \"sequential_2\"\n",
      "_________________________________________________________________\n",
      "Layer (type)                 Output Shape              Param #   \n",
      "=================================================================\n",
      "dense_5 (Dense)              (None, 64)                640064    \n",
      "_________________________________________________________________\n",
      "dense_6 (Dense)              (None, 64)                4160      \n",
      "_________________________________________________________________\n",
      "dense_7 (Dense)              (None, 2)                 130       \n",
      "=================================================================\n",
      "Total params: 644,354\n",
      "Trainable params: 644,354\n",
      "Non-trainable params: 0\n",
      "_________________________________________________________________\n"
     ]
    },
    {
     "data": {
      "image/png": "[encoded data removed]",
      "text/plain": [
       "<Figure size 576x396 with 1 Axes>"
      ]
     },
     "metadata": {},
     "output_type": "display_data"
    }
   ],
   "source": [
    "reg_model = models.Sequential()\n",
    "reg_model.add(layers.Dense(64, kernel_regularizer=regularizers.l2(0.001), activation='relu', input_shape=(NB_WORDS,)))\n",
    "reg_model.add(layers.Dense(64, kernel_regularizer=regularizers.l2(0.001), activation='relu'))\n",
    "reg_model.add(layers.Dense(2, activation='softmax'))\n",
    "reg_model.summary()\n",
    "    \n",
    "reg_history = deep_model(reg_model)\n",
    "compare_loss_with_baseline(reg_history, 'Regularized Model')"
   ]
  },
  {
   "cell_type": "markdown",
   "metadata": {
    "colab_type": "text",
    "id": "wRxA-nzjy49T"
   },
   "source": [
    "## 4.4 Reducing over-fitting by dropping\n",
    "A third way to reduce over-fitting is by randomly dropping data-sets for training. In this case, an additional hidden layer is used to drop some of the intermediate training data. As observed below, the validation losses remain consistent."
   ]
  },
  {
   "cell_type": "code",
   "execution_count": 53,
   "metadata": {
    "colab": {
     "base_uri": "https://localhost:8080/",
     "height": 319
    },
    "colab_type": "code",
    "id": "U0_cZRG3y5qR",
    "outputId": "b9c0ee6f-ab3a-462c-cc4e-e678595f09a6"
   },
   "outputs": [
    {
     "name": "stdout",
     "output_type": "stream",
     "text": [
      "Model: \"sequential_3\"\n",
      "_________________________________________________________________\n",
      "Layer (type)                 Output Shape              Param #   \n",
      "=================================================================\n",
      "dense_8 (Dense)              (None, 64)                640064    \n",
      "_________________________________________________________________\n",
      "dropout (Dropout)            (None, 64)                0         \n",
      "_________________________________________________________________\n",
      "dense_9 (Dense)              (None, 64)                4160      \n",
      "_________________________________________________________________\n",
      "dropout_1 (Dropout)          (None, 64)                0         \n",
      "_________________________________________________________________\n",
      "dense_10 (Dense)             (None, 2)                 130       \n",
      "=================================================================\n",
      "Total params: 644,354\n",
      "Trainable params: 644,354\n",
      "Non-trainable params: 0\n",
      "_________________________________________________________________\n"
     ]
    },
    {
     "data": {
      "image/png": "[encoded data removed]",
      "text/plain": [
       "<Figure size 576x396 with 1 Axes>"
      ]
     },
     "metadata": {},
     "output_type": "display_data"
    }
   ],
   "source": [
    "drop_model = models.Sequential()\n",
    "drop_model.add(layers.Dense(64, activation='relu', input_shape=(NB_WORDS,)))\n",
    "drop_model.add(layers.Dropout(0.5))\n",
    "drop_model.add(layers.Dense(64, activation='relu'))\n",
    "drop_model.add(layers.Dropout(0.5))\n",
    "drop_model.add(layers.Dense(2, activation='softmax'))\n",
    "drop_model.summary()\n",
    "\n",
    "drop_history = deep_model(drop_model)\n",
    "\n",
    "compare_loss_with_baseline(drop_history, 'Dropout Model')"
   ]
  },
  {
   "cell_type": "markdown",
   "metadata": {
    "colab_type": "text",
    "id": "hCroyz5-zLwf"
   },
   "source": [
    "# 5.Testing model results\n",
    "We use out models for in-sample testing of the data. In fact the 3 models (regularised, drop-out and reduced models) all work well in spite of controlling for over-fitting as seen by a higher accuracy."
   ]
  },
  {
   "cell_type": "code",
   "execution_count": 54,
   "metadata": {
    "colab": {
     "base_uri": "https://localhost:8080/",
     "height": 67
    },
    "colab_type": "code",
    "id": "1fY2co70zNDH",
    "outputId": "6200056c-0778-4200-aa6b-a410e0eb05ca"
   },
   "outputs": [
    {
     "name": "stdout",
     "output_type": "stream",
     "text": [
      "48/48 [==============================] - 0s 2ms/step - loss: 0.7553 - accuracy: 0.7689 - precision_4: 0.7689 - recall_4: 0.7689 - auc_4: 0.8367\n",
      "/n\n",
      "Test accuracy of baseline model: 76.89%\n"
     ]
    }
   ],
   "source": [
    "def test_model(model, epoch_stop):\n",
    "    \n",
    "    model.compile(optimizer='adam'\n",
    "                  , loss='binary_crossentropy'\n",
    "                  , metrics=['accuracy', tf.keras.metrics.Precision(), tf.keras.metrics.Recall(), tf.keras.metrics.AUC()])\n",
    "\n",
    "    model.fit(X_train_oh\n",
    "              , y_train_oh\n",
    "              , epochs=epoch_stop\n",
    "              , batch_size=BATCH_SIZE\n",
    "              , verbose=0)\n",
    "    \n",
    "    loss, accuracy, precision, recall, roc_auc = model.evaluate(X_test_oh, y_test_oh)\n",
    "    \n",
    "    return loss, accuracy, precision, recall, roc_auc\n",
    "\n",
    "base_results = test_model(base_model, 3)\n",
    "print('/n')\n",
    "print('Test accuracy of baseline model: {0:.2f}%'.format(base_results[1]*100))"
   ]
  },
  {
   "cell_type": "code",
   "execution_count": 55,
   "metadata": {},
   "outputs": [
    {
     "name": "stdout",
     "output_type": "stream",
     "text": [
      "48/48 [==============================] - 0s 2ms/step - loss: 0.5701 - accuracy: 0.7879 - precision_5: 0.7879 - recall_5: 0.7879 - auc_5: 0.8551\n",
      "/n\n",
      "Test accuracy of reduced model: 78.79%\n",
      "48/48 [==============================] - 0s 3ms/step - loss: 0.6750 - accuracy: 0.7781 - precision_6: 0.7781 - recall_6: 0.7781 - auc_6: 0.8502\n",
      "/n\n",
      "Test accuracy of regularized model: 77.81%\n",
      "48/48 [==============================] - 0s 2ms/step - loss: 0.7070 - accuracy: 0.7846 - precision_7: 0.7846 - recall_7: 0.7846 - auc_7: 0.8491\n",
      "/n\n",
      "Test accuracy of dropout model: 78.46%\n"
     ]
    }
   ],
   "source": [
    "reduced_results = test_model(reduced_model, 8)\n",
    "print('/n')\n",
    "print('Test accuracy of reduced model: {0:.2f}%'.format(reduced_results[1]*100))\n",
    "\n",
    "reg_results = test_model(reg_model, 3)\n",
    "print('/n')\n",
    "print('Test accuracy of regularized model: {0:.2f}%'.format(reg_results[1]*100))\n",
    "\n",
    "drop_results = test_model(drop_model, 5)\n",
    "print('/n')\n",
    "print('Test accuracy of dropout model: {0:.2f}%'.format(drop_results[1]*100))"
   ]
  },
  {
   "cell_type": "markdown",
   "metadata": {},
   "source": [
    "https://www.dlology.com/blog/simple-guide-on-how-to-generate-roc-plot-for-keras-classifier/"
   ]
  },
  {
   "cell_type": "markdown",
   "metadata": {},
   "source": [
    "# 6. Results"
   ]
  },
  {
   "cell_type": "markdown",
   "metadata": {},
   "source": [
    "https://deeplizard.com/learn/video/2f-NjDUvZIE\n",
    "\n",
    "https://deeplizard.com/learn/video/km7pxKy4UHU"
   ]
  },
  {
   "cell_type": "markdown",
   "metadata": {},
   "source": [
    "# A reminder that now 0 means real news, 1 is fake thanks to OHE from line [45]"
   ]
  },
  {
   "cell_type": "markdown",
   "metadata": {},
   "source": [
    "## 6.1 Baseline Model"
   ]
  },
  {
   "cell_type": "code",
   "execution_count": 56,
   "metadata": {},
   "outputs": [],
   "source": [
    "y_pred_base = base_model.predict(X_valid)\n",
    "y_round_pred_base = np.argmax(y_pred_base, axis=1)"
   ]
  },
  {
   "cell_type": "code",
   "execution_count": 57,
   "metadata": {},
   "outputs": [
    {
     "data": {
      "text/plain": [
       "array([[0.8114673 , 0.18853271],\n",
       "       [0.13614865, 0.8638513 ],\n",
       "       [0.9629417 , 0.03705832],\n",
       "       ...,\n",
       "       [0.9829654 , 0.01703465],\n",
       "       [0.01675793, 0.98324203],\n",
       "       [0.9962597 , 0.00374034]], dtype=float32)"
      ]
     },
     "execution_count": 57,
     "metadata": {},
     "output_type": "execute_result"
    }
   ],
   "source": [
    "y_pred_base"
   ]
  },
  {
   "cell_type": "code",
   "execution_count": 58,
   "metadata": {},
   "outputs": [
    {
     "data": {
      "text/plain": [
       "array([0, 1, 0, ..., 0, 1, 0], dtype=int64)"
      ]
     },
     "execution_count": 58,
     "metadata": {},
     "output_type": "execute_result"
    }
   ],
   "source": [
    "y_round_pred_base"
   ]
  },
  {
   "cell_type": "code",
   "execution_count": 59,
   "metadata": {},
   "outputs": [
    {
     "data": {
      "text/plain": [
       "array([[0., 1.],\n",
       "       [0., 1.],\n",
       "       [0., 1.],\n",
       "       ...,\n",
       "       [1., 0.],\n",
       "       [0., 1.],\n",
       "       [1., 0.]], dtype=float32)"
      ]
     },
     "execution_count": 59,
     "metadata": {},
     "output_type": "execute_result"
    }
   ],
   "source": [
    "y_valid"
   ]
  },
  {
   "cell_type": "code",
   "execution_count": 60,
   "metadata": {},
   "outputs": [
    {
     "name": "stdout",
     "output_type": "stream",
     "text": [
      "Accuracy : 0.8941 [(TP + TN) / N] Proportion of predicted labels that match the true labels. Best: 1, Worst: 0\n",
      "Precision: 0.9146 [TP / (TP + FP)] Not to label a negative sample as positive.        Best: 1, Worst: 0\n",
      "Recall   : 0.8380 [TP / (TP + FN)] Find all the positive samples.                     Best: 1, Worst: 0\n",
      "ROC AUC  : 0.8882                                                                     Best: 1, Worst: < 0.5\n",
      "-----------------------------------------------------------------------------------------------------------\n",
      "TP: True Positives, FP: False Positives, TN: True Negatives, FN: False Negatives, N: Number of samples\n"
     ]
    },
    {
     "data": {
      "image/png": "[encoded data removed]",
      "text/plain": [
       "<Figure size 1296x432 with 3 Axes>"
      ]
     },
     "metadata": {},
     "output_type": "display_data"
    },
    {
     "data": {
      "text/plain": [
       "(0.8940886699507389,\n",
       " 0.9146341463414634,\n",
       " 0.8379888268156425,\n",
       " 0.8881574090025348)"
      ]
     },
     "execution_count": 60,
     "metadata": {},
     "output_type": "execute_result"
    }
   ],
   "source": [
    "show_summary_report(y_valid[:,1], y_round_pred_base)"
   ]
  },
  {
   "cell_type": "markdown",
   "metadata": {},
   "source": [
    "## 6.2 Reduced Model"
   ]
  },
  {
   "cell_type": "code",
   "execution_count": 61,
   "metadata": {},
   "outputs": [],
   "source": [
    "y_pred_reduced = reduced_model.predict(X_valid)\n",
    "y_round_pred_reduced = np.argmax(y_pred_reduced, axis=1)"
   ]
  },
  {
   "cell_type": "code",
   "execution_count": 62,
   "metadata": {},
   "outputs": [
    {
     "name": "stdout",
     "output_type": "stream",
     "text": [
      "Accuracy : 0.8941 [(TP + TN) / N] Proportion of predicted labels that match the true labels. Best: 1, Worst: 0\n",
      "Precision: 0.9232 [TP / (TP + FP)] Not to label a negative sample as positive.        Best: 1, Worst: 0\n",
      "Recall   : 0.8287 [TP / (TP + FN)] Find all the positive samples.                     Best: 1, Worst: 0\n",
      "ROC AUC  : 0.8872                                                                     Best: 1, Worst: < 0.5\n",
      "-----------------------------------------------------------------------------------------------------------\n",
      "TP: True Positives, FP: False Positives, TN: True Negatives, FN: False Negatives, N: Number of samples\n"
     ]
    },
    {
     "data": {
      "image/png": "[encoded data removed]",
      "text/plain": [
       "<Figure size 1296x432 with 3 Axes>"
      ]
     },
     "metadata": {},
     "output_type": "display_data"
    },
    {
     "data": {
      "text/plain": [
       "(0.8940886699507389, 0.9232365145228216, 0.8286778398510242, 0.887172987473236)"
      ]
     },
     "execution_count": 62,
     "metadata": {},
     "output_type": "execute_result"
    }
   ],
   "source": [
    "show_summary_report(y_valid[:,1], y_round_pred_reduced)"
   ]
  },
  {
   "cell_type": "markdown",
   "metadata": {},
   "source": [
    "## 6.3 Regularised Model"
   ]
  },
  {
   "cell_type": "code",
   "execution_count": 63,
   "metadata": {},
   "outputs": [],
   "source": [
    "y_pred_reg = reg_model.predict(X_valid)\n",
    "y_round_pred_reg = np.argmax(y_pred_reg, axis=1)"
   ]
  },
  {
   "cell_type": "code",
   "execution_count": 64,
   "metadata": {},
   "outputs": [
    {
     "name": "stdout",
     "output_type": "stream",
     "text": [
      "Accuracy : 0.9269 [(TP + TN) / N] Proportion of predicted labels that match the true labels. Best: 1, Worst: 0\n",
      "Precision: 0.9462 [TP / (TP + FP)] Not to label a negative sample as positive.        Best: 1, Worst: 0\n",
      "Recall   : 0.8845 [TP / (TP + FN)] Find all the positive samples.                     Best: 1, Worst: 0\n",
      "ROC AUC  : 0.9224                                                                     Best: 1, Worst: < 0.5\n",
      "-----------------------------------------------------------------------------------------------------------\n",
      "TP: True Positives, FP: False Positives, TN: True Negatives, FN: False Negatives, N: Number of samples\n"
     ]
    },
    {
     "data": {
      "image/png": "[encoded data removed]",
      "text/plain": [
       "<Figure size 1296x432 with 3 Axes>"
      ]
     },
     "metadata": {},
     "output_type": "display_data"
    },
    {
     "data": {
      "text/plain": [
       "(0.9269293924466339,\n",
       " 0.9462151394422311,\n",
       " 0.8845437616387337,\n",
       " 0.9224480922731114)"
      ]
     },
     "execution_count": 64,
     "metadata": {},
     "output_type": "execute_result"
    }
   ],
   "source": [
    "show_summary_report(y_valid[:,1], y_round_pred_reg)"
   ]
  },
  {
   "cell_type": "markdown",
   "metadata": {},
   "source": [
    "## 6.4 Dropout Model"
   ]
  },
  {
   "cell_type": "code",
   "execution_count": 65,
   "metadata": {},
   "outputs": [],
   "source": [
    "y_pred_drop = drop_model.predict(X_valid)\n",
    "y_round_pred_drop = np.argmax(y_pred_drop, axis=1)"
   ]
  },
  {
   "cell_type": "code",
   "execution_count": 66,
   "metadata": {},
   "outputs": [
    {
     "name": "stdout",
     "output_type": "stream",
     "text": [
      "Accuracy : 0.8949 [(TP + TN) / N] Proportion of predicted labels that match the true labels. Best: 1, Worst: 0\n",
      "Precision: 0.9269 [TP / (TP + FP)] Not to label a negative sample as positive.        Best: 1, Worst: 0\n",
      "Recall   : 0.8268 [TP / (TP + FN)] Find all the positive samples.                     Best: 1, Worst: 0\n",
      "ROC AUC  : 0.8877                                                                     Best: 1, Worst: < 0.5\n",
      "-----------------------------------------------------------------------------------------------------------\n",
      "TP: True Positives, FP: False Positives, TN: True Negatives, FN: False Negatives, N: Number of samples\n"
     ]
    },
    {
     "data": {
      "image/png": "[encoded data removed]",
      "text/plain": [
       "<Figure size 1296x432 with 3 Axes>"
      ]
     },
     "metadata": {},
     "output_type": "display_data"
    },
    {
     "data": {
      "text/plain": [
       "(0.8949096880131363,\n",
       " 0.9269311064718163,\n",
       " 0.8268156424581006,\n",
       " 0.8877103175579785)"
      ]
     },
     "execution_count": 66,
     "metadata": {},
     "output_type": "execute_result"
    }
   ],
   "source": [
    "show_summary_report(y_valid[:,1], y_round_pred_drop)"
   ]
  },
  {
   "cell_type": "markdown",
   "metadata": {},
   "source": [
    "# 7. Summary Table"
   ]
  },
  {
   "cell_type": "code",
   "execution_count": 67,
   "metadata": {},
   "outputs": [
    {
     "data": {
      "text/html": [
       "<div>\n",
       "<style scoped>\n",
       "    .dataframe tbody tr th:only-of-type {\n",
       "        vertical-align: middle;\n",
       "    }\n",
       "\n",
       "    .dataframe tbody tr th {\n",
       "        vertical-align: top;\n",
       "    }\n",
       "\n",
       "    .dataframe thead th {\n",
       "        text-align: right;\n",
       "    }\n",
       "</style>\n",
       "<table border=\"1\" class=\"dataframe\">\n",
       "  <thead>\n",
       "    <tr style=\"text-align: right;\">\n",
       "      <th></th>\n",
       "      <th>Baseline Model</th>\n",
       "      <th>Reduced Model</th>\n",
       "      <th>Regularised Model</th>\n",
       "      <th>Dropout Model</th>\n",
       "    </tr>\n",
       "  </thead>\n",
       "  <tbody>\n",
       "    <tr>\n",
       "      <th>Accuracy</th>\n",
       "      <td>0.894089</td>\n",
       "      <td>0.894089</td>\n",
       "      <td>0.926929</td>\n",
       "      <td>0.894910</td>\n",
       "    </tr>\n",
       "    <tr>\n",
       "      <th>Precision</th>\n",
       "      <td>0.914634</td>\n",
       "      <td>0.923237</td>\n",
       "      <td>0.946215</td>\n",
       "      <td>0.926931</td>\n",
       "    </tr>\n",
       "    <tr>\n",
       "      <th>Recall</th>\n",
       "      <td>0.837989</td>\n",
       "      <td>0.828678</td>\n",
       "      <td>0.884544</td>\n",
       "      <td>0.826816</td>\n",
       "    </tr>\n",
       "    <tr>\n",
       "      <th>ROC_AUC</th>\n",
       "      <td>0.888157</td>\n",
       "      <td>0.887173</td>\n",
       "      <td>0.922448</td>\n",
       "      <td>0.887710</td>\n",
       "    </tr>\n",
       "  </tbody>\n",
       "</table>\n",
       "</div>"
      ],
      "text/plain": [
       "           Baseline Model  Reduced Model  Regularised Model  Dropout Model\n",
       "Accuracy         0.894089       0.894089           0.926929       0.894910\n",
       "Precision        0.914634       0.923237           0.946215       0.926931\n",
       "Recall           0.837989       0.828678           0.884544       0.826816\n",
       "ROC_AUC          0.888157       0.887173           0.922448       0.887710"
      ]
     },
     "execution_count": 67,
     "metadata": {},
     "output_type": "execute_result"
    }
   ],
   "source": [
    "results = {\n",
    "    'Baseline Model' : [accuracy_score(y_valid[:,1], y_round_pred_base), precision_score(y_valid[:,1], y_round_pred_base), recall_score(y_valid[:,1], y_round_pred_base), roc_auc_score(y_valid[:,1], y_round_pred_base)],\n",
    "    'Reduced Model' : [accuracy_score(y_valid[:,1], y_round_pred_reduced), precision_score(y_valid[:,1], y_round_pred_reduced), recall_score(y_valid[:,1], y_round_pred_reduced), roc_auc_score(y_valid[:,1], y_round_pred_reduced)],\n",
    "    'Regularised Model' : [accuracy_score(y_valid[:,1], y_round_pred_reg), precision_score(y_valid[:,1], y_round_pred_reg), recall_score(y_valid[:,1], y_round_pred_reg), roc_auc_score(y_valid[:,1], y_round_pred_reg)],\n",
    "    'Dropout Model' : [accuracy_score(y_valid[:,1], y_round_pred_drop), precision_score(y_valid[:,1], y_round_pred_drop), recall_score(y_valid[:,1], y_round_pred_drop), roc_auc_score(y_valid[:,1], y_round_pred_drop)]\n",
    "}\n",
    "\n",
    "scores = pd.DataFrame(results, index=['Accuracy', 'Precision', 'Recall', 'ROC_AUC'] , columns=['Baseline Model', 'Reduced Model', 'Regularised Model', 'Dropout Model'])\n",
    "scores"
   ]
  },
  {
   "cell_type": "markdown",
   "metadata": {},
   "source": [
    "# 8. Do Predictions"
   ]
  },
  {
   "cell_type": "code",
   "execution_count": 68,
   "metadata": {},
   "outputs": [],
   "source": [
    "test_input = test['text']"
   ]
  },
  {
   "cell_type": "code",
   "execution_count": 69,
   "metadata": {},
   "outputs": [],
   "source": [
    "tk1 = Tokenizer(num_words=NB_WORDS,\n",
    "                lower=True,\n",
    "               split=\" \")\n",
    "\n",
    "tk1.fit_on_texts(test_input)"
   ]
  },
  {
   "cell_type": "code",
   "execution_count": 70,
   "metadata": {},
   "outputs": [
    {
     "name": "stdout",
     "output_type": "stream",
     "text": [
      "Fitted tokenizer on 3263 documents\n",
      "10000 words in dictionary\n"
     ]
    }
   ],
   "source": [
    "print('Fitted tokenizer on {} documents'.format(tk1.document_count))\n",
    "print('{} words in dictionary'.format(tk1.num_words))"
   ]
  },
  {
   "cell_type": "code",
   "execution_count": 71,
   "metadata": {
    "colab": {
     "base_uri": "https://localhost:8080/",
     "height": 34
    },
    "colab_type": "code",
    "id": "WrqZGHhqnjIq",
    "outputId": "2ad235cc-6f24-4ce3-c516-6a57643083d8"
   },
   "outputs": [
    {
     "name": "stdout",
     "output_type": "stream",
     "text": [
      "\"Heard about #earthquake is different cities, stay safe everyone.\" is converted into [272, 53, 247, 11, 1907, 1103, 743, 890, 429]\n",
      "10000 words in dictionary\n"
     ]
    }
   ],
   "source": [
    "test_input_seq = tk1.texts_to_sequences(test_input)\n",
    "\n",
    "print('\"{}\" is converted into {}'.format(test_input[1], test_input_seq[1]))\n",
    "print('{} words in dictionary'.format(tk1.num_words))"
   ]
  },
  {
   "cell_type": "code",
   "execution_count": 72,
   "metadata": {},
   "outputs": [],
   "source": [
    "def one_hot_seq1(seqs, nb_features = NB_WORDS):\n",
    "    ohs = np.zeros((len(seqs), nb_features))\n",
    "    for i, s in enumerate(seqs):\n",
    "        ohs[i, s] = 1.\n",
    "    return ohs"
   ]
  },
  {
   "cell_type": "code",
   "execution_count": 73,
   "metadata": {
    "colab": {
     "base_uri": "https://localhost:8080/",
     "height": 50
    },
    "colab_type": "code",
    "id": "Szc343iHoZlX",
    "outputId": "dd0636fe-28a8-4155-f13b-d5f3c4f06da9"
   },
   "outputs": [
    {
     "name": "stdout",
     "output_type": "stream",
     "text": [
      "\"[272, 53, 247, 11, 1907, 1103, 743, 890, 429]\" is converted into [0. 0. 0. ... 0. 0. 0.]\n",
      "For this example we have 9.0 features with a value of 1.\n"
     ]
    }
   ],
   "source": [
    "test_input_oh = one_hot_seq1(test_input_seq)\n",
    "\n",
    "\n",
    "print('\"{}\" is converted into {}'.format(test_input_seq[1], test_input_oh[1]))\n",
    "print('For this example we have {} features with a value of 1.'.format(test_input_oh[1].sum()))"
   ]
  },
  {
   "cell_type": "code",
   "execution_count": 74,
   "metadata": {
    "colab": {
     "base_uri": "https://localhost:8080/",
     "height": 50
    },
    "colab_type": "code",
    "id": "X30AiLC5uRJY",
    "outputId": "536f1b16-e1fe-495c-fac2-fc83fd9c776c"
   },
   "outputs": [],
   "source": [
    "test_pred = reg_model.predict(test_input_oh)\n",
    "\n",
    "test_pred_round = np.argmax(test_pred, axis=1)\n",
    "\n",
    "test['target'] = test_pred_round"
   ]
  },
  {
   "cell_type": "code",
   "execution_count": 75,
   "metadata": {},
   "outputs": [
    {
     "data": {
      "text/html": [
       "<div>\n",
       "<style scoped>\n",
       "    .dataframe tbody tr th:only-of-type {\n",
       "        vertical-align: middle;\n",
       "    }\n",
       "\n",
       "    .dataframe tbody tr th {\n",
       "        vertical-align: top;\n",
       "    }\n",
       "\n",
       "    .dataframe thead th {\n",
       "        text-align: right;\n",
       "    }\n",
       "</style>\n",
       "<table border=\"1\" class=\"dataframe\">\n",
       "  <thead>\n",
       "    <tr style=\"text-align: right;\">\n",
       "      <th></th>\n",
       "      <th>text</th>\n",
       "      <th>target</th>\n",
       "    </tr>\n",
       "  </thead>\n",
       "  <tbody>\n",
       "    <tr>\n",
       "      <th>844</th>\n",
       "      <td>@CurfewBeagle @beaglefreedom Pretty Curfew!!!??</td>\n",
       "      <td>1</td>\n",
       "    </tr>\n",
       "    <tr>\n",
       "      <th>2904</th>\n",
       "      <td>GSP issues STRONG THUNDERSTORM WILL IMPACT PORTIONS OF NORTHEASTERN PICKENS COUNTY UNTIL 1115 PM EDT for  Greater Pickens Pickens MountainÛ_</td>\n",
       "      <td>1</td>\n",
       "    </tr>\n",
       "    <tr>\n",
       "      <th>1978</th>\n",
       "      <td>Artifacts found in southern Indiana landslide near Horseshoe Casino http://t.co/BdB0NpgPkH http://t.co/jbCC0KShol</td>\n",
       "      <td>1</td>\n",
       "    </tr>\n",
       "    <tr>\n",
       "      <th>965</th>\n",
       "      <td>Businesses are deluged with invoices. Make yours stand out with colour or shape and it's likkly to rise to the top os the pay' pile.</td>\n",
       "      <td>1</td>\n",
       "    </tr>\n",
       "    <tr>\n",
       "      <th>2324</th>\n",
       "      <td>Police: Tennessee theater shooting suspect was 29 http://t.co/CthoDZpLW3 #Philadelphia #News</td>\n",
       "      <td>1</td>\n",
       "    </tr>\n",
       "    <tr>\n",
       "      <th>2532</th>\n",
       "      <td>I'm having a meltdown because of Game of Thrones ?? literally cried screamed and threw my computer #WHYYYY #redwedding</td>\n",
       "      <td>1</td>\n",
       "    </tr>\n",
       "    <tr>\n",
       "      <th>2042</th>\n",
       "      <td>RedScareBot: Duck and Cover! RT tanstaafl23: noah_anyname Socialism means mass murder. Houze that for 'correlation'?</td>\n",
       "      <td>0</td>\n",
       "    </tr>\n",
       "    <tr>\n",
       "      <th>1499</th>\n",
       "      <td>I liked a @YouTube video from @shawlarmedeai http://t.co/NN4fY1WBxf Easy Natural Bride makeup tutorial Makeup explosion Ft ABH Shadow</td>\n",
       "      <td>1</td>\n",
       "    </tr>\n",
       "    <tr>\n",
       "      <th>2234</th>\n",
       "      <td>'I must not fear. Fear is the mind-killer. Fear is the little-death that brings total obliteration... http://t.co/oERI3uWnRY</td>\n",
       "      <td>1</td>\n",
       "    </tr>\n",
       "    <tr>\n",
       "      <th>2472</th>\n",
       "      <td>I have stopped trying to figure out if THIS will be the misogyny/racism/religion-fueled shooting that will incite rioting.</td>\n",
       "      <td>1</td>\n",
       "    </tr>\n",
       "    <tr>\n",
       "      <th>1532</th>\n",
       "      <td>Russian 'food crematoria' provoke outrage amid crisis famine memories http://t.co/kZYvMnqHy7 via @Reuters</td>\n",
       "      <td>1</td>\n",
       "    </tr>\n",
       "    <tr>\n",
       "      <th>3017</th>\n",
       "      <td>omfg Johnny tsunami commercial</td>\n",
       "      <td>0</td>\n",
       "    </tr>\n",
       "    <tr>\n",
       "      <th>2020</th>\n",
       "      <td>Leesburg Lightning and Altamonte Springs Boom scoreless in seventh inning in FCSL playoffs</td>\n",
       "      <td>0</td>\n",
       "    </tr>\n",
       "    <tr>\n",
       "      <th>2756</th>\n",
       "      <td>More details: Bomber kills at least 13 at #Saudi mosque in Asir - including 10+ members of 'special emergency forces' http://t.co/i1626mnNd9</td>\n",
       "      <td>1</td>\n",
       "    </tr>\n",
       "    <tr>\n",
       "      <th>500</th>\n",
       "      <td>#Hiroshima marks 70th anniversary of atomic bombing ( via NHK WORLD News) http://t.co/qGWoyNJLY8</td>\n",
       "      <td>0</td>\n",
       "    </tr>\n",
       "    <tr>\n",
       "      <th>2569</th>\n",
       "      <td>*aggressively screams* https://t.co/8bHaejsUUt</td>\n",
       "      <td>1</td>\n",
       "    </tr>\n",
       "    <tr>\n",
       "      <th>968</th>\n",
       "      <td>Watching Deluged by Data #doczone while on my IPad..... #CBC</td>\n",
       "      <td>0</td>\n",
       "    </tr>\n",
       "    <tr>\n",
       "      <th>3247</th>\n",
       "      <td>RT CNBC '3 words from Disney CEO Bob Iger wrecked Disney's stock says Jim Cramer: http://t.co/f0texKsqhL http://t.co/ilySLaTMgI'</td>\n",
       "      <td>0</td>\n",
       "    </tr>\n",
       "    <tr>\n",
       "      <th>932</th>\n",
       "      <td>HEALTH FACT: Women account for 39% of smoking deaths. http://t.co/fSx2H9XAkI</td>\n",
       "      <td>0</td>\n",
       "    </tr>\n",
       "    <tr>\n",
       "      <th>3010</th>\n",
       "      <td>#BestSeller The trouble in one of Buffett's favorite sectors http://t.co/4wa9cMs3Cz</td>\n",
       "      <td>1</td>\n",
       "    </tr>\n",
       "  </tbody>\n",
       "</table>\n",
       "</div>"
      ],
      "text/plain": [
       "                                                                                                                                               text  \\\n",
       "844                                                                                                 @CurfewBeagle @beaglefreedom Pretty Curfew!!!??   \n",
       "2904  GSP issues STRONG THUNDERSTORM WILL IMPACT PORTIONS OF NORTHEASTERN PICKENS COUNTY UNTIL 1115 PM EDT for  Greater Pickens Pickens MountainÛ_   \n",
       "1978                              Artifacts found in southern Indiana landslide near Horseshoe Casino http://t.co/BdB0NpgPkH http://t.co/jbCC0KShol   \n",
       "965            Businesses are deluged with invoices. Make yours stand out with colour or shape and it's likkly to rise to the top os the pay' pile.   \n",
       "2324                                                   Police: Tennessee theater shooting suspect was 29 http://t.co/CthoDZpLW3 #Philadelphia #News   \n",
       "2532                         I'm having a meltdown because of Game of Thrones ?? literally cried screamed and threw my computer #WHYYYY #redwedding   \n",
       "2042                           RedScareBot: Duck and Cover! RT tanstaafl23: noah_anyname Socialism means mass murder. Houze that for 'correlation'?   \n",
       "1499          I liked a @YouTube video from @shawlarmedeai http://t.co/NN4fY1WBxf Easy Natural Bride makeup tutorial Makeup explosion Ft ABH Shadow   \n",
       "2234                   'I must not fear. Fear is the mind-killer. Fear is the little-death that brings total obliteration... http://t.co/oERI3uWnRY   \n",
       "2472                     I have stopped trying to figure out if THIS will be the misogyny/racism/religion-fueled shooting that will incite rioting.   \n",
       "1532                                      Russian 'food crematoria' provoke outrage amid crisis famine memories http://t.co/kZYvMnqHy7 via @Reuters   \n",
       "3017                                                                                                                 omfg Johnny tsunami commercial   \n",
       "2020                                                     Leesburg Lightning and Altamonte Springs Boom scoreless in seventh inning in FCSL playoffs   \n",
       "2756   More details: Bomber kills at least 13 at #Saudi mosque in Asir - including 10+ members of 'special emergency forces' http://t.co/i1626mnNd9   \n",
       "500                                                #Hiroshima marks 70th anniversary of atomic bombing ( via NHK WORLD News) http://t.co/qGWoyNJLY8   \n",
       "2569                                                                                                 *aggressively screams* https://t.co/8bHaejsUUt   \n",
       "968                                                                                    Watching Deluged by Data #doczone while on my IPad..... #CBC   \n",
       "3247               RT CNBC '3 words from Disney CEO Bob Iger wrecked Disney's stock says Jim Cramer: http://t.co/f0texKsqhL http://t.co/ilySLaTMgI'   \n",
       "932                                                                    HEALTH FACT: Women account for 39% of smoking deaths. http://t.co/fSx2H9XAkI   \n",
       "3010                                                            #BestSeller The trouble in one of Buffett's favorite sectors http://t.co/4wa9cMs3Cz   \n",
       "\n",
       "      target  \n",
       "844        1  \n",
       "2904       1  \n",
       "1978       1  \n",
       "965        1  \n",
       "2324       1  \n",
       "2532       1  \n",
       "2042       0  \n",
       "1499       1  \n",
       "2234       1  \n",
       "2472       1  \n",
       "1532       1  \n",
       "3017       0  \n",
       "2020       0  \n",
       "2756       1  \n",
       "500        0  \n",
       "2569       1  \n",
       "968        0  \n",
       "3247       0  \n",
       "932        0  \n",
       "3010       1  "
      ]
     },
     "execution_count": 75,
     "metadata": {},
     "output_type": "execute_result"
    }
   ],
   "source": [
    "test[['text', 'target']].sample(20)"
   ]
  }
 ],
 "metadata": {
  "colab": {
   "name": "Capstone Project DL.ipynb",
   "provenance": [],
   "toc_visible": true
  },
  "kernelspec": {
   "display_name": "Python 3",
   "language": "python",
   "name": "python3"
  },
  "language_info": {
   "codemirror_mode": {
    "name": "ipython",
    "version": 3
   },
   "file_extension": ".py",
   "mimetype": "text/x-python",
   "name": "python",
   "nbconvert_exporter": "python",
   "pygments_lexer": "ipython3",
   "version": "3.7.6"
  }
 },
 "nbformat": 4,
 "nbformat_minor": 1
}
